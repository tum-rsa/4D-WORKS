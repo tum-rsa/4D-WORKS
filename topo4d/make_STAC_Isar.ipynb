{
 "cells": [
  {
   "cell_type": "markdown",
   "id": "f6f4dc0a",
   "metadata": {},
   "source": [
    "# Creating a STAC of Multi-sensor Topographic Data\n",
    "\n",
    "This notebook demonstrates creating STAC catalogs using the topo4d extension along with standard STAC extensions for better interoperability:\n",
    "\n",
    "- **Topo4D Extension**: For topographic-specific metadata\n",
    "- **Projection Extension**: For coordinate reference system information\n",
    "- **Point Cloud Extension**: For point count and point cloud metadata\n",
    "- **Timestamps Extension**: For publication and creation timestamps\n",
    "- **Common Metadata**: For instrument/sensor information\n",
    "\n",
    "## Workflow:\n",
    "- Ingest metadata from data and user input\n",
    "- Create a STAC Item with multiple extensions\n",
    "- Create more Items\n",
    "- Build the Collection\n",
    "- Update the Collection\n",
    "- Write the Collection locally"
   ]
  },
  {
   "cell_type": "code",
   "execution_count": 74,
   "id": "569a0efb",
   "metadata": {},
   "outputs": [],
   "source": [
    "import json\n",
    "from datetime import datetime\n",
    "from pathlib import Path\n",
    "import pandas as pd\n",
    "from datetime import datetime, timezone, timedelta\n",
    "from dateutil import parser\n",
    "import numpy as np\n",
    "\n",
    "import pystac\n",
    "from topo4d_ext import DataType, Topo4DExtension, ProductMeta, TrafoMeta\n",
    "from builder import extract_metadata_from_las, make_item_asset\n",
    "\n",
    "from tqdm import tqdm\n",
    "import os\n",
    "\n",
    "from typing import Dict, Any"
   ]
  },
  {
   "cell_type": "markdown",
   "id": "8d908267",
   "metadata": {},
   "source": [
    "## Define dirs and paths"
   ]
  },
  {
   "cell_type": "code",
   "execution_count": null,
   "id": "d7c09899",
   "metadata": {},
   "outputs": [],
   "source": [
    "data_dir = \"../demo/Isar/data/Isar_pointclouds\"\n",
    "# data_dir = \"../demo/Isar/data/Isar_m3c2\"\n",
    "aux_dir = None"
   ]
  },
  {
   "cell_type": "markdown",
   "id": "c26bf49e",
   "metadata": {},
   "source": [
    "## Extract metadata from las/laz file"
   ]
  },
  {
   "cell_type": "code",
   "execution_count": 76,
   "id": "859bd45a",
   "metadata": {},
   "outputs": [
    {
     "name": "stdout",
     "output_type": "stream",
     "text": [
      "Processing ..\\demo\\Isar\\data\\Isar_m3c2\\Isar_m3c2_20240812_20241105_10cm.copc.laz\n",
      "Processing ..\\demo\\Isar\\data\\Isar_m3c2\\Isar_m3c2_20240812_20250325_10cm.copc.laz\n"
     ]
    }
   ],
   "source": [
    "file_paths = [f for f in Path(data_dir).glob(\"*\") if f.suffix.lower() in [\".las\", \".laz\"]]\n",
    "\n",
    "for file_path in file_paths:\n",
    "    print(f\"Processing {file_path}\")\n",
    "    meta_las = extract_metadata_from_las(file_path, if_save=True)"
   ]
  },
  {
   "cell_type": "code",
   "execution_count": 77,
   "id": "a1a46e31",
   "metadata": {},
   "outputs": [],
   "source": [
    "file_paths = [f for f in Path(data_dir).glob(\"*\") if f.suffix.lower() in [\".las\", \".laz\"]]\n",
    "\n",
    "meta_las = extract_metadata_from_las(file_paths[0], if_save=True)\n",
    "file_id = Path(file_paths[0]).stem.split(\".\")[0]"
   ]
  },
  {
   "cell_type": "markdown",
   "id": "d05be319",
   "metadata": {},
   "source": [
    "## Ingest metadata"
   ]
  },
  {
   "cell_type": "code",
   "execution_count": 78,
   "id": "82f96d1e",
   "metadata": {},
   "outputs": [
    {
     "name": "stdout",
     "output_type": "stream",
     "text": [
      "{\n",
      "  \"id\": \"Isar_m3c2_20240812_20241105_10cm\",\n",
      "  \"header\": {\n",
      "    \"DEFAULT_POINT_FORMAT\": \"<PointFormat(3, 0 bytes of extra dims)>\",\n",
      "    \"DEFAULT_VERSION\": [\n",
      "      1,\n",
      "      2\n",
      "    ],\n",
      "    \"are_points_compressed\": true,\n",
      "    \"creation_date\": \"2025-06-19\",\n",
      "    \"evlrs\": \"[<laspy.copc.CopcHierarchyVlr object at 0x0000019738033CD0>]\",\n",
      "    \"extra_header_bytes\": null,\n",
      "    \"extra_vlr_bytes\": null,\n",
      "    \"file_source_id\": 0,\n",
      "    \"generating_software\": \"PDAL 2.8.3 (Releas)\",\n",
      "    \"global_encoding\": \"<laspy.header.GlobalEncoding object at 0x0000019738030310>\",\n",
      "    \"major_version\": 1,\n",
      "    \"maxs\": [\n",
      "      674345.436,\n",
      "      5266840.86875,\n",
      "      910.46\n",
      "    ],\n",
      "    \"minor_version\": 4,\n",
      "    \"mins\": [\n",
      "      673496.386,\n",
      "      5266235.7505,\n",
      "      880.485\n",
      "    ],\n",
      "    \"number_of_evlrs\": 1,\n",
      "    \"number_of_points_by_return\": [\n",
      "      0,\n",
      "      0,\n",
      "      0,\n",
      "      0,\n",
      "      0,\n",
      "      0,\n",
      "      0,\n",
      "      0,\n",
      "      0,\n",
      "      0,\n",
      "      0,\n",
      "      0,\n",
      "      0,\n",
      "      0,\n",
      "      0\n",
      "    ],\n",
      "    \"offset_to_point_data\": 689,\n",
      "    \"offsets\": [\n",
      "      673900.0,\n",
      "      5266570.0,\n",
      "      889.0\n",
      "    ],\n",
      "    \"point_count\": 23314488,\n",
      "    \"point_format\": \"<PointFormat(7, 0 bytes of extra dims)>\",\n",
      "    \"scales\": [\n",
      "      0.00025,\n",
      "      0.00025,\n",
      "      0.00025\n",
      "    ],\n",
      "    \"start_of_first_evlr\": 190637288,\n",
      "    \"start_of_waveform_data_packet_record\": 0,\n",
      "    \"system_identifier\": \"PDAL\",\n",
      "    \"uuid\": \"00000000-0000-0000-0000-000000000000\",\n",
      "    \"version\": [\n",
      "      1,\n",
      "      4\n",
      "    ],\n",
      "    \"vlrs\": \"[<laspy.copc.CopcInfoVlr object at 0x0000019738030550>, <laspy.vlrs.known.LasZipVlr object at 0x0000019737C7A9B0>]\",\n",
      "    \"x_max\": 674345.436,\n",
      "    \"x_min\": 673496.386,\n",
      "    \"x_offset\": 673900.0,\n",
      "    \"x_scale\": 0.00025,\n",
      "    \"y_max\": 5266840.86875,\n",
      "    \"y_min\": 5266235.7505,\n",
      "    \"y_offset\": 5266570.0,\n",
      "    \"y_scale\": 0.00025,\n",
      "    \"z_max\": 910.46,\n",
      "    \"z_min\": 880.485,\n",
      "    \"z_offset\": 889.0,\n",
      "    \"z_scale\": 0.00025\n",
      "  },\n",
      "  \"vlrs\": [\n",
      "    {\n",
      "      \"user_id\": \"copc\",\n",
      "      \"record_id\": 1,\n",
      "      \"description\": \"COPC info VLR\",\n",
      "      \"center\": [\n",
      "        673920.9110000001,\n",
      "        5266660.2754999995,\n",
      "        1305.0099999999652\n",
      "      ],\n",
      "      \"gps_max\": 0.0,\n",
      "      \"gps_min\": 0.0,\n",
      "      \"halfsize\": 424.5249999999651,\n",
      "      \"hierarchy_root_offset\": 190637348,\n",
      "      \"hierarchy_root_size\": 21184,\n",
      "      \"spacing\": 5.775850340135579\n",
      "    },\n",
      "    {\n",
      "      \"user_id\": \"laszip encoded\",\n",
      "      \"record_id\": 22204,\n",
      "      \"description\": \"http://laszip.org\"\n",
      "    }\n",
      "  ],\n",
      "  \"evlrs\": [\n",
      "    {\n",
      "      \"user_id\": \"copc\",\n",
      "      \"record_id\": 1000,\n",
      "      \"description\": \"EPT Hierarchy\",\n",
      "      \"root_page\": \"<laspy.copc.HierarchyPage object at 0x0000019738033520>\"\n",
      "    }\n",
      "  ],\n",
      "  \"native_crs\": \"EPSG:25832\",\n",
      "  \"datetime\": \"2024-11-05T00:00:00\",\n",
      "  \"data_type\": \"pointcloud\",\n",
      "  \"timezone\": \"UTC+1\",\n",
      "  \"spatial_resolution\": 0.1,\n",
      "  \"measurement_error\": 0.02,\n",
      "  \"asset_url\": \"./demo/Isar/data/Isar_m3c2/Isar_m3c2_20240812_20241105_10cm.copc.laz\",\n",
      "  \"product_name\": \"M3C2\",\n",
      "  \"param\": 0.5,\n",
      "  \"product_level\": \"L1\"\n",
      "}\n"
     ]
    }
   ],
   "source": [
    "meta_userinput = pd.read_csv(os.path.join(data_dir, \"auxilary.csv\"), index_col=\"id\").to_dict(orient=\"index\")\n",
    "\n",
    "# merge meta_las and meta_userinput\n",
    "metadata = meta_las\n",
    "metadata.update(meta_userinput[file_id])\n",
    "\n",
    "print(json.dumps(metadata, indent=2))"
   ]
  },
  {
   "cell_type": "markdown",
   "id": "7e24e724",
   "metadata": {},
   "source": [
    "## Create a STAC Item from metadata"
   ]
  },
  {
   "cell_type": "markdown",
   "id": "e6e47ac5",
   "metadata": {},
   "source": [
    "### Item `id`"
   ]
  },
  {
   "cell_type": "code",
   "execution_count": 79,
   "id": "0d978dcc",
   "metadata": {},
   "outputs": [],
   "source": [
    "def get_id(metadata: Dict[str, Any]) -> str:\n",
    "    return metadata.get(\"id\")"
   ]
  },
  {
   "cell_type": "code",
   "execution_count": 80,
   "id": "f197abea",
   "metadata": {},
   "outputs": [
    {
     "data": {
      "text/plain": [
       "'Isar_m3c2_20240812_20241105_10cm'"
      ]
     },
     "execution_count": 80,
     "metadata": {},
     "output_type": "execute_result"
    }
   ],
   "source": [
    "item_id = get_id(metadata)\n",
    "item_id"
   ]
  },
  {
   "cell_type": "markdown",
   "id": "ef7b4eff",
   "metadata": {},
   "source": [
    "### Item `datetime`"
   ]
  },
  {
   "cell_type": "code",
   "execution_count": 81,
   "id": "3a2664af",
   "metadata": {},
   "outputs": [],
   "source": [
    "def get_datetime(metadata: Dict) -> datetime:\n",
    "    dt_str = metadata.get(\"datetime\")\n",
    "    if not dt_str:\n",
    "        raise ValueError(\"Missing 'datetime' in metadata\")\n",
    "\n",
    "    dt = parser.parse(dt_str)\n",
    "\n",
    "    tz_str = metadata.get(\"timezone\")\n",
    "    if tz_str and tz_str.startswith(\"UTC\"):\n",
    "        sign = 1 if \"+\" in tz_str else -1\n",
    "        offset_str = tz_str[3:].replace(\"+\", \"\").replace(\"-\", \"\")\n",
    "        parts = offset_str.split(\":\")\n",
    "        hours = int(parts[0]) if parts[0] else 0\n",
    "        minutes = int(parts[1]) if len(parts) > 1 else 0\n",
    "        offset = timedelta(hours=sign * hours, minutes=sign * minutes)\n",
    "        tz = timezone(offset)\n",
    "        dt = dt.replace(tzinfo=tz)\n",
    "    elif tz_str and \"/\" in tz_str:\n",
    "        tz = pytz.timezone(tz_str)\n",
    "        dt = tz.localize(dt)\n",
    "    elif dt.tzinfo is None:\n",
    "        dt = dt.replace(tzinfo=timezone.utc)\n",
    "\n",
    "    return dt"
   ]
  },
  {
   "cell_type": "code",
   "execution_count": 82,
   "metadata": {},
   "outputs": [
    {
     "data": {
      "text/plain": [
       "datetime.datetime(2024, 11, 5, 0, 0, tzinfo=datetime.timezone(datetime.timedelta(seconds=3600)))"
      ]
     },
     "execution_count": 82,
     "metadata": {},
     "output_type": "execute_result"
    }
   ],
   "source": [
    "item_datetime = get_datetime(metadata)\n",
    "item_datetime"
   ]
  },
  {
   "cell_type": "markdown",
   "id": "d821dfe4",
   "metadata": {},
   "source": [
    "### Item `bbox`, `geometry` and CRS information\n",
    "\n",
    "Extract spatial information and prepare for standard STAC Projection extension:"
   ]
  },
  {
   "cell_type": "code",
   "execution_count": 83,
   "metadata": {},
   "outputs": [],
   "source": [
    "from shapely.geometry import box, mapping\n",
    "from pyproj import CRS, Transformer\n",
    "\n",
    "def get_geo(metadata: Dict[str, Any]) -> Dict[str, Any]:\n",
    "    header = metadata.get(\"header\")\n",
    "    vlrs = metadata.get(\"vlrs\", [])\n",
    "    native_crs = metadata.get(\"native_crs\", None)\n",
    "\n",
    "    if not header or \"mins\" not in header or \"maxs\" not in header:\n",
    "        raise ValueError(\"Invalid header format. 'mins' and 'maxs' are required.\")\n",
    "\n",
    "    xmin, ymin, zmin = header[\"mins\"]\n",
    "    xmax, ymax, zmax = header[\"maxs\"]\n",
    "\n",
    "    crs = None\n",
    "    for vlr in vlrs:\n",
    "        if vlr.get(\"user_id\", \"\").lower() == \"lasf_projection\":\n",
    "            if \"wkt\" in vlr and vlr[\"wkt\"]:\n",
    "                crs = CRS.from_wkt(vlr[\"wkt\"])\n",
    "                break\n",
    "            elif \"epsg_code\" in vlr and vlr[\"epsg_code\"]:\n",
    "                crs = CRS.from_epsg(vlr[\"epsg_code\"])\n",
    "                break\n",
    "\n",
    "    if not crs and native_crs:\n",
    "        try:\n",
    "            crs = CRS.from_user_input(native_crs)\n",
    "        except Exception:\n",
    "            crs = None\n",
    "\n",
    "    bbox = [xmin, ymin, xmax, ymax]\n",
    "\n",
    "    if crs and crs.to_epsg() != 4326:\n",
    "        try:\n",
    "            transformer = Transformer.from_crs(crs, CRS.from_epsg(4326), always_xy=True)\n",
    "\n",
    "            min_lon, min_lat = transformer.transform(xmin, ymin)\n",
    "            max_lon, max_lat = transformer.transform(xmax, ymax)\n",
    "\n",
    "            # geom in WGS84\n",
    "            bbox = [min_lon, min_lat, max_lon, max_lat]\n",
    "            geom = mapping(box(min_lon, min_lat, max_lon, max_lat))\n",
    "        except Exception:\n",
    "            pass \n",
    "    else:\n",
    "        # geom in native CRS\n",
    "        geom = mapping(box(xmin, ymin, xmax, ymax))\n",
    "\n",
    "    return {\n",
    "        \"bbox\": bbox,\n",
    "        \"geometry\": geom,\n",
    "        \"native_crs\": crs.to_string() if crs else None\n",
    "    }"
   ]
  },
  {
   "cell_type": "code",
   "execution_count": 84,
   "id": "a8026768",
   "metadata": {},
   "outputs": [
    {
     "name": "stdout",
     "output_type": "stream",
     "text": [
      "{\n",
      "  \"bbox\": [\n",
      "    11.304866670991222,\n",
      "    47.52637673872775,\n",
      "    11.31637632165577,\n",
      "    47.53158992279433\n",
      "  ],\n",
      "  \"geometry\": {\n",
      "    \"type\": \"Polygon\",\n",
      "    \"coordinates\": [\n",
      "      [\n",
      "        [\n",
      "          11.31637632165577,\n",
      "          47.52637673872775\n",
      "        ],\n",
      "        [\n",
      "          11.31637632165577,\n",
      "          47.53158992279433\n",
      "        ],\n",
      "        [\n",
      "          11.304866670991222,\n",
      "          47.53158992279433\n",
      "        ],\n",
      "        [\n",
      "          11.304866670991222,\n",
      "          47.52637673872775\n",
      "        ],\n",
      "        [\n",
      "          11.31637632165577,\n",
      "          47.52637673872775\n",
      "        ]\n",
      "      ]\n",
      "    ]\n",
      "  },\n",
      "  \"native_crs\": \"EPSG:25832\"\n",
      "}\n"
     ]
    }
   ],
   "source": [
    "item_geo = get_geo(metadata)\n",
    "print(json.dumps(item_geo, indent=2))"
   ]
  },
  {
   "cell_type": "markdown",
   "id": "e44cdf02",
   "metadata": {},
   "source": [
    "### Create the `item`"
   ]
  },
  {
   "cell_type": "code",
   "execution_count": 85,
   "id": "4f607fe5",
   "metadata": {},
   "outputs": [],
   "source": [
    "item = pystac.Item(\n",
    "    id=item_id,\n",
    "    geometry=item_geo[\"geometry\"],\n",
    "    bbox=item_geo[\"bbox\"],\n",
    "    datetime=item_datetime.replace(tzinfo=None),\n",
    "    properties={}\n",
    ")\n",
    "\n",
    "# Add standard STAC extensions first\n",
    "item.stac_extensions.extend([\n",
    "    \"https://stac-extensions.github.io/projection/v2.0.0/schema.json\",\n",
    "    \"https://stac-extensions.github.io/pointcloud/v2.0.0/schema.json\", \n",
    "    \"https://stac-extensions.github.io/timestamps/v1.1.0/schema.json\"\n",
    "])"
   ]
  },
  {
   "cell_type": "markdown",
   "id": "50321315",
   "metadata": {},
   "source": [
    "### Adding STAC Extensions\n",
    "\n",
    "The updated topo4d approach leverages multiple standard STAC extensions for better interoperability:"
   ]
  },
  {
   "cell_type": "code",
   "execution_count": 86,
   "metadata": {},
   "outputs": [
    {
     "name": "stdout",
     "output_type": "stream",
     "text": [
      "Topo4D Extension added: True\n"
     ]
    }
   ],
   "source": [
    "topo4d_ext = Topo4DExtension.ext(item, add_if_missing=True)\n",
    "print(f\"Topo4D Extension added: {Topo4DExtension.has_extension(item)}\")"
   ]
  },
  {
   "cell_type": "code",
   "execution_count": 87,
   "id": "db2d0211",
   "metadata": {},
   "outputs": [],
   "source": [
    "# Apply topo4d extension\n",
    "topo4d_ext = Topo4DExtension.ext(item, add_if_missing=True)\n",
    "topo4d_ext.tz = metadata.get(\"timezone\", \"UTC\")\n",
    "topo4d_ext.data_type = DataType(metadata.get(\"data_type\", \"pointcloud\"))\n",
    "\n",
    "# Use standard STAC extensions for formerly topo4d properties\n",
    "item.properties[\"proj:code\"] = item_geo.get(\"native_crs\", None)\n",
    "item.properties[\"instruments\"] = [metadata.get(\"sensor\")] if metadata.get(\"sensor\") else []\n",
    "item.properties[\"pc:count\"] = metadata.get(\"header\", {}).get(\"point_count\", None)\n",
    "item.properties[\"pc:type\"] = 'lidar' if metadata.get('acquisition_mode') == 'ULS' else 'other'"
   ]
  },
  {
   "cell_type": "code",
   "execution_count": 88,
   "id": "60697563",
   "metadata": {},
   "outputs": [
    {
     "data": {
      "text/plain": [
       "{'topo4d:tz': 'UTC+1',\n",
       " 'topo4d:data_type': 'pointcloud',\n",
       " 'proj:code': 'EPSG:25832',\n",
       " 'instruments': [],\n",
       " 'pc:count': 23314488,\n",
       " 'pc:type': 'other'}"
      ]
     },
     "execution_count": 88,
     "metadata": {},
     "output_type": "execute_result"
    }
   ],
   "source": [
    "item.properties"
   ]
  },
  {
   "cell_type": "markdown",
   "id": "1fa7a8b9",
   "metadata": {},
   "source": [
    "### Adding assets"
   ]
  },
  {
   "cell_type": "code",
   "execution_count": 89,
   "id": "1e01e660",
   "metadata": {},
   "outputs": [
    {
     "data": {
      "text/html": [
       "\n",
       "\n",
       "<style>\n",
       ".pystac-summary {\n",
       "    cursor: pointer;\n",
       "    display: list-item;\n",
       "    list-style: revert;\n",
       "    margin-bottom: 0 !important;\n",
       "\n",
       "    .pystac-l {\n",
       "        padding-left: 0.5em;\n",
       "        color: rgb(64, 128, 128);\n",
       "        font-style: italic;\n",
       "    }\n",
       "}\n",
       ".pystac-row {\n",
       "    overflow-wrap: break-word;\n",
       "    padding-left: .825em;\n",
       "\n",
       "    .pystac-k {\n",
       "        display: inline-block;\n",
       "        margin: 0px 0.5em 0px 0px;\n",
       "    }\n",
       "    .pystac-v {\n",
       "        color: rgb(186, 33, 33);\n",
       "    }\n",
       "}\n",
       ".pystac-k {\n",
       "    color: rgb(0, 128, 0);\n",
       "    font-weight: 700;\n",
       "}\n",
       "</style>\n",
       "<div class=\"jp-RenderedJSON jp-mod-trusted jp-OutputArea-output\">\n",
       "    <div class=\"container\" style=\"line-height: normal;\">\n",
       "        <ul style=\"padding: 0px; margin: 0px; list-style: none; display: block;\">\n",
       "            \n",
       "                \n",
       "                    \n",
       "        <li class=\"pystac-row\">\n",
       "            <span class=\"pystac-k\">type</span>\n",
       "            <span class=\"pystac-v\">\"Feature\"</span>\n",
       "        </li>\n",
       "    \n",
       "                \n",
       "            \n",
       "                \n",
       "                    \n",
       "        <li class=\"pystac-row\">\n",
       "            <span class=\"pystac-k\">stac_version</span>\n",
       "            <span class=\"pystac-v\">\"1.1.0\"</span>\n",
       "        </li>\n",
       "    \n",
       "                \n",
       "            \n",
       "                \n",
       "                    <li><details>\n",
       "        <summary class=\"pystac-summary\"><span class=\"pystac-k\">stac_extensions</span><span class=\"pystac-l\">[] 4 items</span></summary>\n",
       "        \n",
       "            <ul style=\"margin: 0px; padding: 0px 0px 0px 1.75em; list-style: none; display: block;\">\n",
       "        \n",
       "            \n",
       "                \n",
       "        <li class=\"pystac-row\">\n",
       "            <span class=\"pystac-k\">0</span>\n",
       "            <span class=\"pystac-v\">\"https://stac-extensions.github.io/projection/v2.0.0/schema.json\"</span>\n",
       "        </li>\n",
       "    \n",
       "            \n",
       "        \n",
       "    </ul>\n",
       "        \n",
       "            <ul style=\"margin: 0px; padding: 0px 0px 0px 1.75em; list-style: none; display: block;\">\n",
       "        \n",
       "            \n",
       "                \n",
       "        <li class=\"pystac-row\">\n",
       "            <span class=\"pystac-k\">1</span>\n",
       "            <span class=\"pystac-v\">\"https://stac-extensions.github.io/pointcloud/v2.0.0/schema.json\"</span>\n",
       "        </li>\n",
       "    \n",
       "            \n",
       "        \n",
       "    </ul>\n",
       "        \n",
       "            <ul style=\"margin: 0px; padding: 0px 0px 0px 1.75em; list-style: none; display: block;\">\n",
       "        \n",
       "            \n",
       "                \n",
       "        <li class=\"pystac-row\">\n",
       "            <span class=\"pystac-k\">2</span>\n",
       "            <span class=\"pystac-v\">\"https://stac-extensions.github.io/timestamps/v1.1.0/schema.json\"</span>\n",
       "        </li>\n",
       "    \n",
       "            \n",
       "        \n",
       "    </ul>\n",
       "        \n",
       "            <ul style=\"margin: 0px; padding: 0px 0px 0px 1.75em; list-style: none; display: block;\">\n",
       "        \n",
       "            \n",
       "                \n",
       "        <li class=\"pystac-row\">\n",
       "            <span class=\"pystac-k\">3</span>\n",
       "            <span class=\"pystac-v\">\"https://stac-extensions.github.io/topo4d/v1.0.0/schema.json\"</span>\n",
       "        </li>\n",
       "    \n",
       "            \n",
       "        \n",
       "    </ul>\n",
       "        \n",
       "    </details></li>\n",
       "                \n",
       "            \n",
       "                \n",
       "                    \n",
       "        <li class=\"pystac-row\">\n",
       "            <span class=\"pystac-k\">id</span>\n",
       "            <span class=\"pystac-v\">\"Isar_m3c2_20240812_20241105_10cm\"</span>\n",
       "        </li>\n",
       "    \n",
       "                \n",
       "            \n",
       "                \n",
       "                    \n",
       "        <li><details>\n",
       "            <summary class=\"pystac-summary\"><span class=\"pystac-k\">geometry</span></summary>\n",
       "            <ul style=\"margin: 0px; padding: 0px 0px 0px 1.75em; list-style: none; display: block;\">\n",
       "        \n",
       "            \n",
       "                \n",
       "        <li class=\"pystac-row\">\n",
       "            <span class=\"pystac-k\">type</span>\n",
       "            <span class=\"pystac-v\">\"Polygon\"</span>\n",
       "        </li>\n",
       "    \n",
       "            \n",
       "        \n",
       "            \n",
       "                <li><details>\n",
       "        <summary class=\"pystac-summary\"><span class=\"pystac-k\">coordinates</span><span class=\"pystac-l\">[] 1 items</span></summary>\n",
       "        \n",
       "            <ul style=\"margin: 0px; padding: 0px 0px 0px 1.75em; list-style: none; display: block;\">\n",
       "        \n",
       "            \n",
       "                <li><details>\n",
       "        <summary class=\"pystac-summary\"><span class=\"pystac-k\">0</span><span class=\"pystac-l\">[] 5 items</span></summary>\n",
       "        \n",
       "            <ul style=\"margin: 0px; padding: 0px 0px 0px 1.75em; list-style: none; display: block;\">\n",
       "        \n",
       "            \n",
       "                <li><details>\n",
       "        <summary class=\"pystac-summary\"><span class=\"pystac-k\">0</span><span class=\"pystac-l\">[] 2 items</span></summary>\n",
       "        \n",
       "            <ul style=\"margin: 0px; padding: 0px 0px 0px 1.75em; list-style: none; display: block;\">\n",
       "        \n",
       "            \n",
       "                \n",
       "        <li class=\"pystac-row\">\n",
       "            <span class=\"pystac-k\">0</span>\n",
       "            <span class=\"pystac-v\">11.31637632165577</span>\n",
       "        </li>\n",
       "    \n",
       "            \n",
       "        \n",
       "    </ul>\n",
       "        \n",
       "            <ul style=\"margin: 0px; padding: 0px 0px 0px 1.75em; list-style: none; display: block;\">\n",
       "        \n",
       "            \n",
       "                \n",
       "        <li class=\"pystac-row\">\n",
       "            <span class=\"pystac-k\">1</span>\n",
       "            <span class=\"pystac-v\">47.52637673872775</span>\n",
       "        </li>\n",
       "    \n",
       "            \n",
       "        \n",
       "    </ul>\n",
       "        \n",
       "    </details></li>\n",
       "            \n",
       "        \n",
       "    </ul>\n",
       "        \n",
       "            <ul style=\"margin: 0px; padding: 0px 0px 0px 1.75em; list-style: none; display: block;\">\n",
       "        \n",
       "            \n",
       "                <li><details>\n",
       "        <summary class=\"pystac-summary\"><span class=\"pystac-k\">1</span><span class=\"pystac-l\">[] 2 items</span></summary>\n",
       "        \n",
       "            <ul style=\"margin: 0px; padding: 0px 0px 0px 1.75em; list-style: none; display: block;\">\n",
       "        \n",
       "            \n",
       "                \n",
       "        <li class=\"pystac-row\">\n",
       "            <span class=\"pystac-k\">0</span>\n",
       "            <span class=\"pystac-v\">11.31637632165577</span>\n",
       "        </li>\n",
       "    \n",
       "            \n",
       "        \n",
       "    </ul>\n",
       "        \n",
       "            <ul style=\"margin: 0px; padding: 0px 0px 0px 1.75em; list-style: none; display: block;\">\n",
       "        \n",
       "            \n",
       "                \n",
       "        <li class=\"pystac-row\">\n",
       "            <span class=\"pystac-k\">1</span>\n",
       "            <span class=\"pystac-v\">47.53158992279433</span>\n",
       "        </li>\n",
       "    \n",
       "            \n",
       "        \n",
       "    </ul>\n",
       "        \n",
       "    </details></li>\n",
       "            \n",
       "        \n",
       "    </ul>\n",
       "        \n",
       "            <ul style=\"margin: 0px; padding: 0px 0px 0px 1.75em; list-style: none; display: block;\">\n",
       "        \n",
       "            \n",
       "                <li><details>\n",
       "        <summary class=\"pystac-summary\"><span class=\"pystac-k\">2</span><span class=\"pystac-l\">[] 2 items</span></summary>\n",
       "        \n",
       "            <ul style=\"margin: 0px; padding: 0px 0px 0px 1.75em; list-style: none; display: block;\">\n",
       "        \n",
       "            \n",
       "                \n",
       "        <li class=\"pystac-row\">\n",
       "            <span class=\"pystac-k\">0</span>\n",
       "            <span class=\"pystac-v\">11.304866670991222</span>\n",
       "        </li>\n",
       "    \n",
       "            \n",
       "        \n",
       "    </ul>\n",
       "        \n",
       "            <ul style=\"margin: 0px; padding: 0px 0px 0px 1.75em; list-style: none; display: block;\">\n",
       "        \n",
       "            \n",
       "                \n",
       "        <li class=\"pystac-row\">\n",
       "            <span class=\"pystac-k\">1</span>\n",
       "            <span class=\"pystac-v\">47.53158992279433</span>\n",
       "        </li>\n",
       "    \n",
       "            \n",
       "        \n",
       "    </ul>\n",
       "        \n",
       "    </details></li>\n",
       "            \n",
       "        \n",
       "    </ul>\n",
       "        \n",
       "            <ul style=\"margin: 0px; padding: 0px 0px 0px 1.75em; list-style: none; display: block;\">\n",
       "        \n",
       "            \n",
       "                <li><details>\n",
       "        <summary class=\"pystac-summary\"><span class=\"pystac-k\">3</span><span class=\"pystac-l\">[] 2 items</span></summary>\n",
       "        \n",
       "            <ul style=\"margin: 0px; padding: 0px 0px 0px 1.75em; list-style: none; display: block;\">\n",
       "        \n",
       "            \n",
       "                \n",
       "        <li class=\"pystac-row\">\n",
       "            <span class=\"pystac-k\">0</span>\n",
       "            <span class=\"pystac-v\">11.304866670991222</span>\n",
       "        </li>\n",
       "    \n",
       "            \n",
       "        \n",
       "    </ul>\n",
       "        \n",
       "            <ul style=\"margin: 0px; padding: 0px 0px 0px 1.75em; list-style: none; display: block;\">\n",
       "        \n",
       "            \n",
       "                \n",
       "        <li class=\"pystac-row\">\n",
       "            <span class=\"pystac-k\">1</span>\n",
       "            <span class=\"pystac-v\">47.52637673872775</span>\n",
       "        </li>\n",
       "    \n",
       "            \n",
       "        \n",
       "    </ul>\n",
       "        \n",
       "    </details></li>\n",
       "            \n",
       "        \n",
       "    </ul>\n",
       "        \n",
       "            <ul style=\"margin: 0px; padding: 0px 0px 0px 1.75em; list-style: none; display: block;\">\n",
       "        \n",
       "            \n",
       "                <li><details>\n",
       "        <summary class=\"pystac-summary\"><span class=\"pystac-k\">4</span><span class=\"pystac-l\">[] 2 items</span></summary>\n",
       "        \n",
       "            <ul style=\"margin: 0px; padding: 0px 0px 0px 1.75em; list-style: none; display: block;\">\n",
       "        \n",
       "            \n",
       "                \n",
       "        <li class=\"pystac-row\">\n",
       "            <span class=\"pystac-k\">0</span>\n",
       "            <span class=\"pystac-v\">11.31637632165577</span>\n",
       "        </li>\n",
       "    \n",
       "            \n",
       "        \n",
       "    </ul>\n",
       "        \n",
       "            <ul style=\"margin: 0px; padding: 0px 0px 0px 1.75em; list-style: none; display: block;\">\n",
       "        \n",
       "            \n",
       "                \n",
       "        <li class=\"pystac-row\">\n",
       "            <span class=\"pystac-k\">1</span>\n",
       "            <span class=\"pystac-v\">47.52637673872775</span>\n",
       "        </li>\n",
       "    \n",
       "            \n",
       "        \n",
       "    </ul>\n",
       "        \n",
       "    </details></li>\n",
       "            \n",
       "        \n",
       "    </ul>\n",
       "        \n",
       "    </details></li>\n",
       "            \n",
       "        \n",
       "    </ul>\n",
       "        \n",
       "    </details></li>\n",
       "            \n",
       "        \n",
       "    </ul>\n",
       "        </details></li>\n",
       "    \n",
       "                \n",
       "            \n",
       "                \n",
       "                    <li><details>\n",
       "        <summary class=\"pystac-summary\"><span class=\"pystac-k\">bbox</span><span class=\"pystac-l\">[] 4 items</span></summary>\n",
       "        \n",
       "            <ul style=\"margin: 0px; padding: 0px 0px 0px 1.75em; list-style: none; display: block;\">\n",
       "        \n",
       "            \n",
       "                \n",
       "        <li class=\"pystac-row\">\n",
       "            <span class=\"pystac-k\">0</span>\n",
       "            <span class=\"pystac-v\">11.304866670991222</span>\n",
       "        </li>\n",
       "    \n",
       "            \n",
       "        \n",
       "    </ul>\n",
       "        \n",
       "            <ul style=\"margin: 0px; padding: 0px 0px 0px 1.75em; list-style: none; display: block;\">\n",
       "        \n",
       "            \n",
       "                \n",
       "        <li class=\"pystac-row\">\n",
       "            <span class=\"pystac-k\">1</span>\n",
       "            <span class=\"pystac-v\">47.52637673872775</span>\n",
       "        </li>\n",
       "    \n",
       "            \n",
       "        \n",
       "    </ul>\n",
       "        \n",
       "            <ul style=\"margin: 0px; padding: 0px 0px 0px 1.75em; list-style: none; display: block;\">\n",
       "        \n",
       "            \n",
       "                \n",
       "        <li class=\"pystac-row\">\n",
       "            <span class=\"pystac-k\">2</span>\n",
       "            <span class=\"pystac-v\">11.31637632165577</span>\n",
       "        </li>\n",
       "    \n",
       "            \n",
       "        \n",
       "    </ul>\n",
       "        \n",
       "            <ul style=\"margin: 0px; padding: 0px 0px 0px 1.75em; list-style: none; display: block;\">\n",
       "        \n",
       "            \n",
       "                \n",
       "        <li class=\"pystac-row\">\n",
       "            <span class=\"pystac-k\">3</span>\n",
       "            <span class=\"pystac-v\">47.53158992279433</span>\n",
       "        </li>\n",
       "    \n",
       "            \n",
       "        \n",
       "    </ul>\n",
       "        \n",
       "    </details></li>\n",
       "                \n",
       "            \n",
       "                \n",
       "                    \n",
       "        <li><details>\n",
       "            <summary class=\"pystac-summary\"><span class=\"pystac-k\">properties</span></summary>\n",
       "            <ul style=\"margin: 0px; padding: 0px 0px 0px 1.75em; list-style: none; display: block;\">\n",
       "        \n",
       "            \n",
       "                \n",
       "        <li class=\"pystac-row\">\n",
       "            <span class=\"pystac-k\">topo4d:tz</span>\n",
       "            <span class=\"pystac-v\">\"UTC+1\"</span>\n",
       "        </li>\n",
       "    \n",
       "            \n",
       "        \n",
       "            \n",
       "                \n",
       "        <li class=\"pystac-row\">\n",
       "            <span class=\"pystac-k\">topo4d:data_type</span>\n",
       "            <span class=\"pystac-v\">\"pointcloud\"</span>\n",
       "        </li>\n",
       "    \n",
       "            \n",
       "        \n",
       "            \n",
       "                \n",
       "        <li class=\"pystac-row\">\n",
       "            <span class=\"pystac-k\">proj:code</span>\n",
       "            <span class=\"pystac-v\">\"EPSG:25832\"</span>\n",
       "        </li>\n",
       "    \n",
       "            \n",
       "        \n",
       "            \n",
       "                <li><details>\n",
       "        <summary class=\"pystac-summary\"><span class=\"pystac-k\">instruments</span><span class=\"pystac-l\">[] 0 items</span></summary>\n",
       "        \n",
       "    </details></li>\n",
       "            \n",
       "        \n",
       "            \n",
       "                \n",
       "        <li class=\"pystac-row\">\n",
       "            <span class=\"pystac-k\">pc:count</span>\n",
       "            <span class=\"pystac-v\">23314488</span>\n",
       "        </li>\n",
       "    \n",
       "            \n",
       "        \n",
       "            \n",
       "                \n",
       "        <li class=\"pystac-row\">\n",
       "            <span class=\"pystac-k\">pc:type</span>\n",
       "            <span class=\"pystac-v\">\"other\"</span>\n",
       "        </li>\n",
       "    \n",
       "            \n",
       "        \n",
       "            \n",
       "                \n",
       "        <li class=\"pystac-row\">\n",
       "            <span class=\"pystac-k\">datetime</span>\n",
       "            <span class=\"pystac-v\">\"2024-11-05T00:00:00Z\"</span>\n",
       "        </li>\n",
       "    \n",
       "            \n",
       "        \n",
       "    </ul>\n",
       "        </details></li>\n",
       "    \n",
       "                \n",
       "            \n",
       "                \n",
       "                    <li><details>\n",
       "        <summary class=\"pystac-summary\"><span class=\"pystac-k\">links</span><span class=\"pystac-l\">[] 0 items</span></summary>\n",
       "        \n",
       "    </details></li>\n",
       "                \n",
       "            \n",
       "                \n",
       "                    \n",
       "        <li><details>\n",
       "            <summary class=\"pystac-summary\"><span class=\"pystac-k\">assets</span></summary>\n",
       "            <ul style=\"margin: 0px; padding: 0px 0px 0px 1.75em; list-style: none; display: block;\">\n",
       "        \n",
       "            \n",
       "                \n",
       "        <li><details>\n",
       "            <summary class=\"pystac-summary\"><span class=\"pystac-k\">pointcloud</span></summary>\n",
       "            <ul style=\"margin: 0px; padding: 0px 0px 0px 1.75em; list-style: none; display: block;\">\n",
       "        \n",
       "            \n",
       "                \n",
       "        <li class=\"pystac-row\">\n",
       "            <span class=\"pystac-k\">href</span>\n",
       "            <span class=\"pystac-v\">\"./demo/Isar/data/Isar_m3c2/Isar_m3c2_20240812_20241105_10cm.copc.laz\"</span>\n",
       "        </li>\n",
       "    \n",
       "            \n",
       "        \n",
       "            \n",
       "                \n",
       "        <li class=\"pystac-row\">\n",
       "            <span class=\"pystac-k\">type</span>\n",
       "            <span class=\"pystac-v\">\"application/vnd.laszip+copc\"</span>\n",
       "        </li>\n",
       "    \n",
       "            \n",
       "        \n",
       "            \n",
       "                <li><details>\n",
       "        <summary class=\"pystac-summary\"><span class=\"pystac-k\">roles</span><span class=\"pystac-l\">[] 1 items</span></summary>\n",
       "        \n",
       "            <ul style=\"margin: 0px; padding: 0px 0px 0px 1.75em; list-style: none; display: block;\">\n",
       "        \n",
       "            \n",
       "                \n",
       "        <li class=\"pystac-row\">\n",
       "            <span class=\"pystac-k\">0</span>\n",
       "            <span class=\"pystac-v\">\"data\"</span>\n",
       "        </li>\n",
       "    \n",
       "            \n",
       "        \n",
       "    </ul>\n",
       "        \n",
       "    </details></li>\n",
       "            \n",
       "        \n",
       "    </ul>\n",
       "        </details></li>\n",
       "    \n",
       "            \n",
       "        \n",
       "    </ul>\n",
       "        </details></li>\n",
       "    \n",
       "                \n",
       "            \n",
       "        </ul>\n",
       "    </div>\n",
       "</div>"
      ],
      "text/plain": [
       "<Item id=Isar_m3c2_20240812_20241105_10cm>"
      ]
     },
     "execution_count": 89,
     "metadata": {},
     "output_type": "execute_result"
    }
   ],
   "source": [
    "asset_name, item_asset = make_item_asset(asset_url=metadata.get(\"asset_url\"), user_input=metadata)\n",
    "\n",
    "item.add_asset(\n",
    "    key=asset_name,\n",
    "    asset=item_asset\n",
    ")\n",
    "\n",
    "item"
   ]
  },
  {
   "cell_type": "markdown",
   "id": "07c6673b",
   "metadata": {},
   "source": [
    "## Create more items"
   ]
  },
  {
   "cell_type": "code",
   "execution_count": 90,
   "id": "fb2ec6ee",
   "metadata": {},
   "outputs": [],
   "source": [
    "def item_from_metadata(metadata: Dict[str, Any]) -> pystac.Item:\n",
    "    item_id = get_id(metadata)\n",
    "    item_datetime = get_datetime(metadata)\n",
    "    item_geo = get_geo(metadata)\n",
    "\n",
    "    item = pystac.Item(\n",
    "        id=item_id,\n",
    "        geometry=item_geo[\"geometry\"],\n",
    "        bbox=item_geo[\"bbox\"],\n",
    "        datetime=item_datetime.replace(tzinfo=None),\n",
    "        properties={}\n",
    "    )\n",
    "\n",
    "    # Add standard STAC extensions\n",
    "    item.stac_extensions.extend([\n",
    "        \"https://stac-extensions.github.io/projection/v2.0.0/schema.json\",\n",
    "        \"https://stac-extensions.github.io/pointcloud/v2.0.0/schema.json\", \n",
    "        \"https://stac-extensions.github.io/timestamps/v1.1.0/schema.json\"\n",
    "    ])\n",
    "\n",
    "    # Apply topo4d extension\n",
    "    topo4d_ext = Topo4DExtension.ext(item, add_if_missing=True)\n",
    "    topo4d_ext.tz = metadata.get(\"timezone\", \"UTC\")\n",
    "    topo4d_ext.data_type = DataType(metadata.get(\"data_type\", \"pointcloud\"))\n",
    "    topo4d_ext.acquisition_mode = metadata.get(\"acquisition_mode\", None)  # Fixed typo: was acquisition_date\n",
    "    topo4d_ext.orientation = metadata.get(\"orientation\", None)\n",
    "    topo4d_ext.spatial_resolution = metadata.get(\"spatial_resolution\", None)\n",
    "    topo4d_ext.measurement_error = metadata.get(\"measurement_error\", None)\n",
    "\n",
    "    # Use standard STAC extensions for formerly topo4d properties\n",
    "    item.properties[\"proj:code\"] = item_geo.get(\"native_crs\", None)\n",
    "    item.properties[\"instruments\"] = [metadata.get(\"sensor\")] if metadata.get(\"sensor\") else []\n",
    "    item.properties[\"pc:count\"] = metadata.get(\"header\", {}).get(\"point_count\", None)\n",
    "    item.properties[\"pc:type\"] = 'lidar' if metadata.get('acquisition_mode') == 'ULS' else 'other'\n",
    "\n",
    "    # Add timestamps if available\n",
    "    if metadata.get(\"header\", {}).get(\"creation_date\"):\n",
    "        try:\n",
    "            creation_date = datetime.strptime(metadata[\"header\"][\"creation_date\"], \"%Y-%m-%d\").isoformat() + \"Z\"\n",
    "            item.properties[\"timestamps:published\"] = creation_date\n",
    "        except:\n",
    "            pass\n",
    "\n",
    "    asset_name, item_asset = make_item_asset(asset_url=metadata.get(\"asset_url\"), user_input=metadata)\n",
    "\n",
    "    item.add_asset(\n",
    "        key=asset_name,\n",
    "        asset=item_asset\n",
    "    )\n",
    "\n",
    "    return item"
   ]
  },
  {
   "cell_type": "code",
   "execution_count": 91,
   "id": "4ea02f7e",
   "metadata": {},
   "outputs": [
    {
     "name": "stderr",
     "output_type": "stream",
     "text": [
      "Processing files: 100%|██████████| 2/2 [00:00<00:00, 205.08it/s]\n"
     ]
    }
   ],
   "source": [
    "meta_userinput = pd.read_csv(os.path.join(data_dir, \"auxilary.csv\"), index_col=\"id\").to_dict(orient=\"index\")\n",
    "\n",
    "item_list = []\n",
    "metadata_list = []\n",
    "\n",
    "for file_path in tqdm(file_paths, desc=\"Processing files\"):\n",
    "    meta_las = extract_metadata_from_las(file_path, if_save=True)\n",
    "    file_id = Path(file_path).stem.split(\".\")[0]\n",
    "\n",
    "    if file_id not in meta_userinput:\n",
    "        print(f\"Skipping {file_id} as it is not in user input metadata\")\n",
    "        continue\n",
    "\n",
    "    metadata = meta_las\n",
    "    metadata.update(meta_userinput[file_id])\n",
    "\n",
    "    metadata_list.append(metadata)\n",
    "\n",
    "    item = item_from_metadata(metadata)\n",
    "    # item.validate() # Uncomment when the Schema url is public\n",
    "\n",
    "    item.set_self_href(f\"{data_dir}/{item.id}.json\")\n",
    "    item_list.append(item)"
   ]
  },
  {
   "cell_type": "code",
   "execution_count": 92,
   "id": "02a22718",
   "metadata": {},
   "outputs": [
    {
     "data": {
      "text/plain": [
       "'c:/Users/jiapan/02_projects/2025_4DWORKS/4D-WORKS/demo/Isar/data/Isar_m3c2/Isar_m3c2_20240812_20241105_10cm.json'"
      ]
     },
     "execution_count": 92,
     "metadata": {},
     "output_type": "execute_result"
    }
   ],
   "source": [
    "item_list[0].get_self_href()"
   ]
  },
  {
   "cell_type": "markdown",
   "id": "dbba0f76",
   "metadata": {},
   "source": [
    "### Adding TrafoMeta\n",
    "\n",
    "Note: TrafoMeta.create() now requires reference_epoch as a mandatory parameter:"
   ]
  },
  {
   "cell_type": "code",
   "execution_count": 93,
   "id": "9124d475",
   "metadata": {},
   "outputs": [
    {
     "name": "stdout",
     "output_type": "stream",
     "text": [
      "Warning: Reference epoch 'Isar_20241105_UPH_10cm' not found in item list\n"
     ]
    }
   ],
   "source": [
    "trafo_paths = [f for f in Path(data_dir).glob(\"trafo*.txt\")]\n",
    "ref_id = \"Isar_20241105_UPH_10cm\"\n",
    "\n",
    "# find the match id in item_list\n",
    "if ref_id in [item.id for item in item_list]:\n",
    "    reference_epoch = [item for item in item_list if item.id == ref_id][0]\n",
    "\n",
    "    reference_epoch_link = pystac.Link(\n",
    "        rel=reference_epoch.id,\n",
    "        target=reference_epoch.get_self_href(),\n",
    "        title=\"Reference Epoch\",\n",
    "        media_type=pystac.MediaType.JSON)\n",
    "\n",
    "    for idx, trafo_path in enumerate(trafo_paths):\n",
    "        with open(trafo_path, \"r\") as f:\n",
    "            # read trafo meta from txt file as array\n",
    "            trafo_mat = [np.array(line.strip().split(), dtype=float).tolist() for line in f if line.strip()]\n",
    "\n",
    "        # TrafoMeta.create() now requires reference_epoch as first argument\n",
    "        trafo_meta = TrafoMeta.create(\n",
    "            reference_epoch=reference_epoch_link.to_dict(),  # Required parameter\n",
    "            transformation=trafo_mat,\n",
    "        )\n",
    "\n",
    "        item = item_list[idx]\n",
    "        Topo4DExtension.ext(item, add_if_missing=True).trafometa = trafo_meta\n",
    "else:\n",
    "    print(f\"Warning: Reference epoch '{ref_id}' not found in item list\")"
   ]
  },
  {
   "cell_type": "markdown",
   "id": "041f027e",
   "metadata": {},
   "source": [
    "### Adding ProductMeta\n",
    "\n",
    "ProductMeta no longer includes lastupdate - use standard timestamps extension instead:"
   ]
  },
  {
   "cell_type": "code",
   "execution_count": 94,
   "id": "8f8cf9a2",
   "metadata": {},
   "outputs": [],
   "source": [
    "for idx, meta in enumerate(metadata_list):\n",
    "    item = item_list[idx]\n",
    "    if \"product_name\" in meta:\n",
    "        product_meta = ProductMeta.create(\n",
    "            product_name=meta[\"product_name\"],\n",
    "            param={\"param\": meta.get(\"param\", None)},\n",
    "            derived_from=meta.get(\"derived_from\", None),\n",
    "            product_level=meta.get(\"product_level\", None),\n",
    "        )\n",
    "        Topo4DExtension.ext(item, add_if_missing=True).productmeta = product_meta\n",
    "        \n",
    "        # Use timestamps extension for publication date instead of ProductMeta.lastupdate\n",
    "        if meta.get('header', {}).get(\"creation_date\"):\n",
    "            try:\n",
    "                creation_date = datetime.strptime(meta['header'][\"creation_date\"], \"%Y-%m-%d\").isoformat() + \"Z\"\n",
    "                item.properties[\"timestamps:published\"] = creation_date\n",
    "            except:\n",
    "                pass"
   ]
  },
  {
   "cell_type": "markdown",
   "id": "fae6fdb7",
   "metadata": {},
   "source": [
    "## Create Collection"
   ]
  },
  {
   "cell_type": "markdown",
   "id": "cbc73786",
   "metadata": {},
   "source": [
    "### Collection `id`"
   ]
  },
  {
   "cell_type": "code",
   "execution_count": null,
   "metadata": {},
   "outputs": [
    {
     "data": {
      "text/plain": [
       "'Isar_m3c2_collection'"
      ]
     },
     "execution_count": 95,
     "metadata": {},
     "output_type": "execute_result"
    }
   ],
   "source": [
    "collection_id = f\"Isar_pointclouds_collection\"\n",
    "collection_id"
   ]
  },
  {
   "cell_type": "markdown",
   "id": "267caefb",
   "metadata": {},
   "source": [
    "### Collection `title`"
   ]
  },
  {
   "cell_type": "code",
   "execution_count": null,
   "id": "583df81e",
   "metadata": {},
   "outputs": [
    {
     "data": {
      "text/plain": [
       "'Isar M3C2 Collection'"
      ]
     },
     "execution_count": 96,
     "metadata": {},
     "output_type": "execute_result"
    }
   ],
   "source": [
    "collection_title = \"Isar Point Clouds Collection\"\n",
    "collection_title"
   ]
  },
  {
   "cell_type": "markdown",
   "id": "15c9d648",
   "metadata": {},
   "source": [
    "### Collection `description`"
   ]
  },
  {
   "cell_type": "code",
   "execution_count": null,
   "id": "83e09f62",
   "metadata": {},
   "outputs": [
    {
     "name": "stdout",
     "output_type": "stream",
     "text": [
      "### Isar M3C2 Collection\n",
      "\n",
      "A collection of M3C2 distance from Isar riverbank, near Wallgau, Germany.\n",
      "\n"
     ]
    }
   ],
   "source": [
    "collection_desc = f'''### {collection_title}\n",
    "\n",
    "A collection of point cloud from Isar riverbank, near Wallgau, Germany.\n",
    "'''\n",
    "print(collection_desc)"
   ]
  },
  {
   "cell_type": "markdown",
   "id": "3e858861",
   "metadata": {},
   "source": [
    "### Collection `license`"
   ]
  },
  {
   "cell_type": "code",
   "execution_count": 98,
   "id": "bb826017",
   "metadata": {},
   "outputs": [
    {
     "data": {
      "text/plain": [
       "'CC-BY-4.0'"
      ]
     },
     "execution_count": 98,
     "metadata": {},
     "output_type": "execute_result"
    }
   ],
   "source": [
    "collection_license = \"CC-BY-4.0\"\n",
    "collection_license"
   ]
  },
  {
   "cell_type": "markdown",
   "id": "f080a0e4",
   "metadata": {},
   "source": [
    "### Collection `provider`"
   ]
  },
  {
   "cell_type": "code",
   "execution_count": 99,
   "id": "017cb8c4",
   "metadata": {},
   "outputs": [],
   "source": [
    "collection_providers = [\n",
    "    pystac.Provider(\n",
    "        name=\"TUM Remote Sensing Applications\",\n",
    "        roles=[\n",
    "            pystac.ProviderRole.PROCESSOR,\n",
    "            pystac.ProviderRole.PRODUCER,\n",
    "            pystac.ProviderRole.LICENSOR,\n",
    "            pystac.ProviderRole.HOST\n",
    "            ],\n",
    "        url=\"https://www.asg.ed.tum.de/rsa/startseite/\",\n",
    "    ),\n",
    "]"
   ]
  },
  {
   "cell_type": "markdown",
   "id": "d0238287",
   "metadata": {},
   "source": [
    "### Collection `extend`"
   ]
  },
  {
   "cell_type": "code",
   "execution_count": 100,
   "id": "bd8c8373",
   "metadata": {},
   "outputs": [],
   "source": [
    "spatial_extent = pystac.SpatialExtent([[-180.0, -90.0, 180.0, 90.0]])\n",
    "temporal_extent = pystac.TemporalExtent([[datetime(2013, 6, 1), None]])\n",
    "collection_extent = pystac.Extent(spatial_extent, temporal_extent)"
   ]
  },
  {
   "cell_type": "code",
   "execution_count": 101,
   "id": "5f89ce02",
   "metadata": {},
   "outputs": [],
   "source": [
    "collection = pystac.Collection(\n",
    "    id=collection_id,\n",
    "    title=collection_title,\n",
    "    description=collection_desc,\n",
    "    extent=collection_extent,\n",
    "    license=collection_license,\n",
    "    providers=collection_providers,\n",
    ")"
   ]
  },
  {
   "cell_type": "code",
   "execution_count": 102,
   "id": "2985e1c3",
   "metadata": {},
   "outputs": [
    {
     "data": {
      "text/plain": [
       "{'type': 'Collection',\n",
       " 'id': 'Isar_m3c2_collection',\n",
       " 'stac_version': '1.1.0',\n",
       " 'description': '### Isar M3C2 Collection\\n\\nA collection of M3C2 distance from Isar riverbank, near Wallgau, Germany.\\n',\n",
       " 'links': [],\n",
       " 'title': 'Isar M3C2 Collection',\n",
       " 'extent': {'spatial': {'bbox': [[-180.0, -90.0, 180.0, 90.0]]},\n",
       "  'temporal': {'interval': [['2013-06-01T00:00:00Z', None]]}},\n",
       " 'license': 'CC-BY-4.0',\n",
       " 'providers': [{'name': 'TUM Remote Sensing Applications',\n",
       "   'roles': ['processor', 'producer', 'licensor', 'host'],\n",
       "   'url': 'https://www.asg.ed.tum.de/rsa/startseite/'}]}"
      ]
     },
     "execution_count": 102,
     "metadata": {},
     "output_type": "execute_result"
    }
   ],
   "source": [
    "collection.to_dict()"
   ]
  },
  {
   "cell_type": "code",
   "execution_count": 103,
   "id": "fc7c8368",
   "metadata": {},
   "outputs": [],
   "source": [
    "# add items to the collection\n",
    "for item in item_list:\n",
    "    collection.add_item(item)"
   ]
  },
  {
   "cell_type": "markdown",
   "id": "89385e75",
   "metadata": {},
   "source": [
    "### Collection `summaries`"
   ]
  },
  {
   "cell_type": "code",
   "execution_count": 104,
   "id": "9d5b111c",
   "metadata": {},
   "outputs": [],
   "source": [
    "# add collection summaries\n",
    "collection.summaries.add(\"num_items\", {\"count\": len(item_list)})\n",
    "collection.summaries.add(\"timestamp_list\", {\"list\": [item.datetime.isoformat() for item in item_list]})\n",
    "collection.summaries.add(\"temporal_resolution\", {\"resolution\": \"half-annual\"})"
   ]
  },
  {
   "cell_type": "code",
   "execution_count": 105,
   "id": "e4bd187e",
   "metadata": {},
   "outputs": [
    {
     "data": {
      "text/plain": [
       "{'type': 'Collection',\n",
       " 'id': 'Isar_m3c2_collection',\n",
       " 'stac_version': '1.1.0',\n",
       " 'description': '### Isar M3C2 Collection\\n\\nA collection of M3C2 distance from Isar riverbank, near Wallgau, Germany.\\n',\n",
       " 'links': [{'rel': 'item',\n",
       "   'href': 'c:/Users/jiapan/02_projects/2025_4DWORKS/4D-WORKS/demo/Isar/data/Isar_m3c2/Isar_m3c2_20240812_20241105_10cm.json',\n",
       "   'type': 'application/geo+json'},\n",
       "  {'rel': 'item',\n",
       "   'href': 'c:/Users/jiapan/02_projects/2025_4DWORKS/4D-WORKS/demo/Isar/data/Isar_m3c2/Isar_m3c2_20240812_20250325_10cm.json',\n",
       "   'type': 'application/geo+json'}],\n",
       " 'title': 'Isar M3C2 Collection',\n",
       " 'extent': {'spatial': {'bbox': [[11.304866670991222,\n",
       "     47.52637673872775,\n",
       "     11.31637632165577,\n",
       "     47.53158992279433]]},\n",
       "  'temporal': {'interval': [['2024-11-05T00:00:00Z',\n",
       "     '2025-03-25T00:00:00Z']]}},\n",
       " 'license': 'CC-BY-4.0',\n",
       " 'providers': [{'name': 'TUM Remote Sensing Applications',\n",
       "   'roles': ['processor', 'producer', 'licensor', 'host'],\n",
       "   'url': 'https://www.asg.ed.tum.de/rsa/startseite/'}],\n",
       " 'summaries': {'num_items': {'count': 2},\n",
       "  'timestamp_list': {'list': ['2024-11-05T00:00:00', '2025-03-25T00:00:00']},\n",
       "  'temporal_resolution': {'resolution': 'half-annual'}}}"
      ]
     },
     "execution_count": 105,
     "metadata": {},
     "output_type": "execute_result"
    }
   ],
   "source": [
    "collection.update_extent_from_items()\n",
    "collection.extent.to_dict()\n",
    "collection.to_dict()"
   ]
  },
  {
   "cell_type": "markdown",
   "id": "edc4c677",
   "metadata": {},
   "source": [
    "### Save STAC"
   ]
  },
  {
   "cell_type": "code",
   "execution_count": 106,
   "metadata": {},
   "outputs": [
    {
     "name": "stdout",
     "output_type": "stream",
     "text": [
      "Root path for collection: ..\\demo\\Isar\\data\\Isar_m3c2\n"
     ]
    }
   ],
   "source": [
    "from pathlib import Path\n",
    "\n",
    "root_path = str(Path(f\"{data_dir}\"))\n",
    "print(f\"Root path for collection: {root_path}\")\n",
    "\n",
    "from pystac.layout import TemplateLayoutStrategy\n",
    "\n",
    "# Set up a flatten layout strategy\n",
    "strategy = TemplateLayoutStrategy(\n",
    "    item_template=\"${id}.json\"\n",
    ")\n",
    "\n",
    "collection.normalize_hrefs(root_path, strategy=strategy)"
   ]
  },
  {
   "cell_type": "code",
   "execution_count": 107,
   "id": "99aca706",
   "metadata": {},
   "outputs": [],
   "source": [
    "# collection.validate_all() # Uncomment when the Schema url is public"
   ]
  },
  {
   "cell_type": "code",
   "execution_count": 108,
   "metadata": {},
   "outputs": [],
   "source": [
    "collection.save(pystac.CatalogType.SELF_CONTAINED)"
   ]
  },
  {
   "cell_type": "code",
   "execution_count": 109,
   "id": "f1076f36",
   "metadata": {},
   "outputs": [
    {
     "name": "stdout",
     "output_type": "stream",
     "text": [
      "* <Collection id=Isar_m3c2_collection>\n",
      "  * <Item id=Isar_m3c2_20240812_20241105_10cm>\n",
      "  * <Item id=Isar_m3c2_20240812_20250325_10cm>\n"
     ]
    }
   ],
   "source": [
    "collection.describe()"
   ]
  }
 ],
 "metadata": {
  "kernelspec": {
   "display_name": "4dworks",
   "language": "python",
   "name": "python3"
  },
  "language_info": {
   "codemirror_mode": {
    "name": "ipython",
    "version": 3
   },
   "file_extension": ".py",
   "mimetype": "text/x-python",
   "name": "python",
   "nbconvert_exporter": "python",
   "pygments_lexer": "ipython3",
   "version": "3.10.17"
  }
 },
 "nbformat": 4,
 "nbformat_minor": 5
}
