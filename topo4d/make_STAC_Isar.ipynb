{
 "cells": [
  {
   "cell_type": "markdown",
   "id": "f6f4dc0a",
   "metadata": {},
   "source": [
    "# Creating a STAC of Multi-sensor Topographic Data\n",
    "\n",
    "- Ingest metadata from data and user input\n",
    "- Create a STAC Item\n",
    "  - Adding extensions\n",
    "  - Adding assets\n",
    "- Create more Items\n",
    "- Build the Collection\n",
    "- Update the Collection\n",
    "- Write the Collection locally"
   ]
  },
  {
   "cell_type": "code",
   "execution_count": 147,
   "id": "569a0efb",
   "metadata": {},
   "outputs": [],
   "source": [
    "import json\n",
    "from datetime import datetime\n",
    "from pathlib import Path\n",
    "import pandas as pd\n",
    "from datetime import datetime, timezone, timedelta\n",
    "from dateutil import parser\n",
    "import numpy as np\n",
    "\n",
    "import pystac\n",
    "from topo4d_ext import DataType, Topo4DExtension, CRSType, ProductMeta, TrafoMeta\n",
    "from builder import extract_metadata_from_las, make_item_asset\n",
    "\n",
    "from tqdm import tqdm\n",
    "import os\n",
    "\n",
    "from typing import Dict, Any"
   ]
  },
  {
   "cell_type": "markdown",
   "id": "8d908267",
   "metadata": {},
   "source": [
    "## Define dirs and paths"
   ]
  },
  {
   "cell_type": "code",
   "execution_count": 148,
   "id": "d7c09899",
   "metadata": {},
   "outputs": [],
   "source": [
    "data_dir = \"../demo/Isar/data/Isar_pointclouds\"\n",
    "aux_dir = None"
   ]
  },
  {
   "cell_type": "markdown",
   "id": "c26bf49e",
   "metadata": {},
   "source": [
    "## Extract metadata from las/laz file"
   ]
  },
  {
   "cell_type": "code",
   "execution_count": 149,
   "id": "859bd45a",
   "metadata": {},
   "outputs": [
    {
     "name": "stdout",
     "output_type": "stream",
     "text": [
      "Processing ..\\demo\\Isar\\data\\Isar_pointclouds\\Isar_20240812_UPH_10cm.copc.laz\n",
      "Processing ..\\demo\\Isar\\data\\Isar_pointclouds\\Isar_20241105_UPH_10cm.copc.laz\n",
      "Processing ..\\demo\\Isar\\data\\Isar_pointclouds\\Isar_20250325_ULS_10cm.copc.laz\n"
     ]
    }
   ],
   "source": [
    "file_paths = [f for f in Path(data_dir).glob(\"*\") if f.suffix.lower() in [\".las\", \".laz\"]]\n",
    "\n",
    "for file_path in file_paths:\n",
    "    print(f\"Processing {file_path}\")\n",
    "    meta_las = extract_metadata_from_las(file_path, if_save=True)"
   ]
  },
  {
   "cell_type": "code",
   "execution_count": 150,
   "id": "a1a46e31",
   "metadata": {},
   "outputs": [],
   "source": [
    "file_paths = [f for f in Path(data_dir).glob(\"*\") if f.suffix.lower() in [\".las\", \".laz\"]]\n",
    "\n",
    "meta_las = extract_metadata_from_las(file_paths[0], if_save=True)\n",
    "file_id = Path(file_paths[0]).stem.split(\".\")[0]"
   ]
  },
  {
   "cell_type": "markdown",
   "id": "d05be319",
   "metadata": {},
   "source": [
    "## Ingest metadata"
   ]
  },
  {
   "cell_type": "code",
   "execution_count": 151,
   "id": "82f96d1e",
   "metadata": {},
   "outputs": [
    {
     "name": "stdout",
     "output_type": "stream",
     "text": [
      "{\n",
      "  \"id\": \"Isar_20240812_UPH_10cm\",\n",
      "  \"header\": {\n",
      "    \"DEFAULT_POINT_FORMAT\": \"<PointFormat(3, 0 bytes of extra dims)>\",\n",
      "    \"DEFAULT_VERSION\": [\n",
      "      1,\n",
      "      2\n",
      "    ],\n",
      "    \"are_points_compressed\": true,\n",
      "    \"creation_date\": \"2025-05-05\",\n",
      "    \"evlrs\": \"[<laspy.copc.CopcHierarchyVlr object at 0x00000251B52AF040>]\",\n",
      "    \"extra_header_bytes\": null,\n",
      "    \"extra_vlr_bytes\": null,\n",
      "    \"file_source_id\": 0,\n",
      "    \"generating_software\": \"PDAL 2.7.0 (d5d146)\",\n",
      "    \"global_encoding\": \"<laspy.header.GlobalEncoding object at 0x00000251B5342A40>\",\n",
      "    \"major_version\": 1,\n",
      "    \"maxs\": [\n",
      "      674345.436,\n",
      "      5266840.8687,\n",
      "      910.46\n",
      "    ],\n",
      "    \"minor_version\": 4,\n",
      "    \"mins\": [\n",
      "      673496.386,\n",
      "      5266235.7505,\n",
      "      880.4851\n",
      "    ],\n",
      "    \"number_of_evlrs\": 1,\n",
      "    \"number_of_points_by_return\": [\n",
      "      23314488,\n",
      "      0,\n",
      "      0,\n",
      "      0,\n",
      "      0,\n",
      "      0,\n",
      "      0,\n",
      "      0,\n",
      "      0,\n",
      "      0,\n",
      "      0,\n",
      "      0,\n",
      "      0,\n",
      "      0,\n",
      "      0\n",
      "    ],\n",
      "    \"offset_to_point_data\": 1239,\n",
      "    \"offsets\": [\n",
      "      673934.0,\n",
      "      5266523.0,\n",
      "      901.0\n",
      "    ],\n",
      "    \"point_count\": 23314488,\n",
      "    \"point_format\": \"<PointFormat(7, 0 bytes of extra dims)>\",\n",
      "    \"scales\": [\n",
      "      0.0001,\n",
      "      0.0001,\n",
      "      0.0001\n",
      "    ],\n",
      "    \"start_of_first_evlr\": 214694905,\n",
      "    \"start_of_waveform_data_packet_record\": 0,\n",
      "    \"system_identifier\": \"PDAL\",\n",
      "    \"uuid\": \"00000000-0000-0000-0000-000000000000\",\n",
      "    \"version\": [\n",
      "      1,\n",
      "      4\n",
      "    ],\n",
      "    \"vlrs\": \"[<laspy.copc.CopcInfoVlr object at 0x00000251B53422F0>, <laspy.vlrs.known.LasZipVlr object at 0x00000251B5341AB0>, <laspy.vlrs.known.WktCoordinateSystemVlr object at 0x00000251B5343520>]\",\n",
      "    \"x_max\": 674345.436,\n",
      "    \"x_min\": 673496.386,\n",
      "    \"x_offset\": 673934.0,\n",
      "    \"x_scale\": 0.0001,\n",
      "    \"y_max\": 5266840.8687,\n",
      "    \"y_min\": 5266235.7505,\n",
      "    \"y_offset\": 5266523.0,\n",
      "    \"y_scale\": 0.0001,\n",
      "    \"z_max\": 910.46,\n",
      "    \"z_min\": 880.4851,\n",
      "    \"z_offset\": 901.0,\n",
      "    \"z_scale\": 0.0001\n",
      "  },\n",
      "  \"vlrs\": [\n",
      "    {\n",
      "      \"user_id\": \"copc\",\n",
      "      \"record_id\": 1,\n",
      "      \"description\": \"COPC info VLR\",\n",
      "      \"center\": [\n",
      "        673920.9110000001,\n",
      "        5266660.2754999995,\n",
      "        1305.010099999965\n",
      "      ],\n",
      "      \"gps_max\": 0.0,\n",
      "      \"gps_min\": 0.0,\n",
      "      \"halfsize\": 424.5249999999651,\n",
      "      \"hierarchy_root_offset\": 214694965,\n",
      "      \"hierarchy_root_size\": 21184,\n",
      "      \"spacing\": 5.775850340135579\n",
      "    },\n",
      "    {\n",
      "      \"user_id\": \"laszip encoded\",\n",
      "      \"record_id\": 22204,\n",
      "      \"description\": \"http://laszip.org\"\n",
      "    },\n",
      "    {\n",
      "      \"user_id\": \"LASF_Projection\",\n",
      "      \"record_id\": 2112,\n",
      "      \"description\": \"\",\n",
      "      \"string\": \"PROJCS[\\\"WGS 84 / UTM zone 32N\\\",GEOGCS[\\\"WGS 84\\\",DATUM[\\\"WGS_1984\\\",SPHEROID[\\\"WGS 84\\\",6378137,298.257223563]],PRIMEM[\\\"Greenwich\\\",0],UNIT[\\\"degree\\\",0.0174532925199433,AUTHORITY[\\\"EPSG\\\",\\\"9122\\\"]],AUTHORITY[\\\"EPSG\\\",\\\"4326\\\"]],PROJECTION[\\\"Transverse_Mercator\\\"],PARAMETER[\\\"latitude_of_origin\\\",0],PARAMETER[\\\"central_meridian\\\",9],PARAMETER[\\\"scale_factor\\\",0.9996],PARAMETER[\\\"false_easting\\\",500000],PARAMETER[\\\"false_northing\\\",0],UNIT[\\\"metre\\\",1],AXIS[\\\"Easting\\\",EAST],AXIS[\\\"Northing\\\",NORTH],AUTHORITY[\\\"EPSG\\\",\\\"32632\\\"]]\"\n",
      "    }\n",
      "  ],\n",
      "  \"evlrs\": [\n",
      "    {\n",
      "      \"user_id\": \"copc\",\n",
      "      \"record_id\": 1000,\n",
      "      \"description\": \"EPT Hierarchy\",\n",
      "      \"root_page\": \"<laspy.copc.HierarchyPage object at 0x00000251B52AED10>\"\n",
      "    }\n",
      "  ],\n",
      "  \"native_crs\": \"EPSG:25832\",\n",
      "  \"datetime\": \"2024-08-12T00:00:00\",\n",
      "  \"data_type\": \"pointcloud\",\n",
      "  \"sensor\": \"DJI Phantom 4 RTK\",\n",
      "  \"timezone\": \"UTC+1\",\n",
      "  \"acquisition_mode\": \"UPH\",\n",
      "  \"orientation\": \"Nadir\",\n",
      "  \"spatial_resolution\": 0.1,\n",
      "  \"measurement_error\": 0.04,\n",
      "  \"asset_url\": \"./Isar_20240812_UPH_10cm.copc.laz\"\n",
      "}\n"
     ]
    }
   ],
   "source": [
    "meta_userinput = pd.read_csv(os.path.join(data_dir, \"auxilary.csv\"), index_col=\"id\").to_dict(orient=\"index\")\n",
    "\n",
    "# merge meta_las and meta_userinput\n",
    "metadata = meta_las\n",
    "metadata.update(meta_userinput[file_id])\n",
    "\n",
    "print(json.dumps(metadata, indent=2))"
   ]
  },
  {
   "cell_type": "markdown",
   "id": "7e24e724",
   "metadata": {},
   "source": [
    "## Create a STAC Item from metadata"
   ]
  },
  {
   "cell_type": "markdown",
   "id": "e6e47ac5",
   "metadata": {},
   "source": [
    "### Item `id`"
   ]
  },
  {
   "cell_type": "code",
   "execution_count": 152,
   "id": "0d978dcc",
   "metadata": {},
   "outputs": [],
   "source": [
    "def get_id(metadata: Dict[str, Any]) -> str:\n",
    "    return metadata.get(\"id\")"
   ]
  },
  {
   "cell_type": "code",
   "execution_count": 153,
   "id": "f197abea",
   "metadata": {},
   "outputs": [
    {
     "data": {
      "text/plain": [
       "'Isar_20240812_UPH_10cm'"
      ]
     },
     "execution_count": 153,
     "metadata": {},
     "output_type": "execute_result"
    }
   ],
   "source": [
    "item_id = get_id(metadata)\n",
    "item_id"
   ]
  },
  {
   "cell_type": "markdown",
   "id": "ef7b4eff",
   "metadata": {},
   "source": [
    "### Item `datetime`"
   ]
  },
  {
   "cell_type": "code",
   "execution_count": 154,
   "id": "3a2664af",
   "metadata": {},
   "outputs": [],
   "source": [
    "def get_datetime(metadata: Dict) -> datetime:\n",
    "    dt_str = metadata.get(\"datetime\")\n",
    "    if not dt_str:\n",
    "        raise ValueError(\"Missing 'datetime' in metadata\")\n",
    "\n",
    "    dt = parser.parse(dt_str)\n",
    "\n",
    "    tz_str = metadata.get(\"timezone\")\n",
    "    if tz_str and tz_str.startswith(\"UTC\"):\n",
    "        sign = 1 if \"+\" in tz_str else -1\n",
    "        offset_str = tz_str[3:].replace(\"+\", \"\").replace(\"-\", \"\")\n",
    "        parts = offset_str.split(\":\")\n",
    "        hours = int(parts[0]) if parts[0] else 0\n",
    "        minutes = int(parts[1]) if len(parts) > 1 else 0\n",
    "        offset = timedelta(hours=sign * hours, minutes=sign * minutes)\n",
    "        tz = timezone(offset)\n",
    "        dt = dt.replace(tzinfo=tz)\n",
    "    elif tz_str and \"/\" in tz_str:\n",
    "        tz = pytz.timezone(tz_str)\n",
    "        dt = tz.localize(dt)\n",
    "    elif dt.tzinfo is None:\n",
    "        dt = dt.replace(tzinfo=timezone.utc)\n",
    "\n",
    "    return dt"
   ]
  },
  {
   "cell_type": "code",
   "execution_count": 155,
   "metadata": {},
   "outputs": [
    {
     "data": {
      "text/plain": [
       "datetime.datetime(2024, 8, 12, 0, 0, tzinfo=datetime.timezone(datetime.timedelta(seconds=3600)))"
      ]
     },
     "execution_count": 155,
     "metadata": {},
     "output_type": "execute_result"
    }
   ],
   "source": [
    "item_datetime = get_datetime(metadata)\n",
    "item_datetime"
   ]
  },
  {
   "cell_type": "markdown",
   "id": "d821dfe4",
   "metadata": {},
   "source": [
    "### Item `bbox`, `geometry` and `native_crs`"
   ]
  },
  {
   "cell_type": "code",
   "execution_count": 156,
   "metadata": {},
   "outputs": [],
   "source": [
    "from shapely.geometry import box, mapping\n",
    "from pyproj import CRS, Transformer\n",
    "\n",
    "def get_geo(metadata: Dict[str, Any]) -> Dict[str, Any]:\n",
    "    header = metadata.get(\"header\")\n",
    "    vlrs = metadata.get(\"vlrs\", [])\n",
    "    native_crs = metadata.get(\"native_crs\", None)\n",
    "\n",
    "    if not header or \"mins\" not in header or \"maxs\" not in header:\n",
    "        raise ValueError(\"Invalid header format. 'mins' and 'maxs' are required.\")\n",
    "\n",
    "    xmin, ymin, zmin = header[\"mins\"]\n",
    "    xmax, ymax, zmax = header[\"maxs\"]\n",
    "\n",
    "    crs = None\n",
    "    for vlr in vlrs:\n",
    "        if vlr.get(\"user_id\", \"\").lower() == \"lasf_projection\":\n",
    "            if \"wkt\" in vlr and vlr[\"wkt\"]:\n",
    "                crs = CRS.from_wkt(vlr[\"wkt\"])\n",
    "                break\n",
    "            elif \"epsg_code\" in vlr and vlr[\"epsg_code\"]:\n",
    "                crs = CRS.from_epsg(vlr[\"epsg_code\"])\n",
    "                break\n",
    "\n",
    "    if not crs and native_crs:\n",
    "        try:\n",
    "            crs = CRS.from_user_input(native_crs)\n",
    "        except Exception:\n",
    "            crs = None\n",
    "\n",
    "    bbox = [xmin, ymin, xmax, ymax]\n",
    "\n",
    "    if crs and crs.to_epsg() != 4326:\n",
    "        try:\n",
    "            transformer = Transformer.from_crs(crs, CRS.from_epsg(4326), always_xy=True)\n",
    "\n",
    "            min_lon, min_lat = transformer.transform(xmin, ymin)\n",
    "            max_lon, max_lat = transformer.transform(xmax, ymax)\n",
    "\n",
    "            # geom in WGS84\n",
    "            bbox = [min_lon, min_lat, max_lon, max_lat]\n",
    "            geom = mapping(box(min_lon, min_lat, max_lon, max_lat))\n",
    "        except Exception:\n",
    "            pass \n",
    "    else:\n",
    "        # geom in native CRS\n",
    "        geom = mapping(box(xmin, ymin, xmax, ymax))\n",
    "\n",
    "    return {\n",
    "        \"bbox\": bbox,\n",
    "        \"geometry\": geom,\n",
    "        \"native_crs\": crs.to_string() if crs else None\n",
    "    }"
   ]
  },
  {
   "cell_type": "code",
   "execution_count": 157,
   "id": "a8026768",
   "metadata": {},
   "outputs": [
    {
     "name": "stdout",
     "output_type": "stream",
     "text": [
      "{\n",
      "  \"bbox\": [\n",
      "    11.304866670991222,\n",
      "    47.52637673872775,\n",
      "    11.316376321635966,\n",
      "    47.53158992234481\n",
      "  ],\n",
      "  \"geometry\": {\n",
      "    \"type\": \"Polygon\",\n",
      "    \"coordinates\": [\n",
      "      [\n",
      "        [\n",
      "          11.316376321635966,\n",
      "          47.52637673872775\n",
      "        ],\n",
      "        [\n",
      "          11.316376321635966,\n",
      "          47.53158992234481\n",
      "        ],\n",
      "        [\n",
      "          11.304866670991222,\n",
      "          47.53158992234481\n",
      "        ],\n",
      "        [\n",
      "          11.304866670991222,\n",
      "          47.52637673872775\n",
      "        ],\n",
      "        [\n",
      "          11.316376321635966,\n",
      "          47.52637673872775\n",
      "        ]\n",
      "      ]\n",
      "    ]\n",
      "  },\n",
      "  \"native_crs\": \"EPSG:25832\"\n",
      "}\n"
     ]
    }
   ],
   "source": [
    "item_geo = get_geo(metadata)\n",
    "print(json.dumps(item_geo, indent=2))"
   ]
  },
  {
   "cell_type": "markdown",
   "id": "e44cdf02",
   "metadata": {},
   "source": [
    "### Create the `item`"
   ]
  },
  {
   "cell_type": "code",
   "execution_count": 158,
   "id": "4f607fe5",
   "metadata": {},
   "outputs": [],
   "source": [
    "item = pystac.Item(\n",
    "    id=item_id,\n",
    "    geometry=item_geo[\"geometry\"],\n",
    "    bbox=item_geo[\"bbox\"],\n",
    "    datetime=item_datetime.replace(tzinfo=None),\n",
    "    properties={}\n",
    ")"
   ]
  },
  {
   "cell_type": "code",
   "execution_count": 159,
   "id": "e300dc08",
   "metadata": {},
   "outputs": [
    {
     "data": {
      "text/plain": [
       "['https://schemas.stacspec.org/v1.1.0/item-spec/json-schema/item.json']"
      ]
     },
     "execution_count": 159,
     "metadata": {},
     "output_type": "execute_result"
    }
   ],
   "source": [
    "item.validate()"
   ]
  },
  {
   "cell_type": "markdown",
   "id": "50321315",
   "metadata": {},
   "source": [
    "### Adding the Topo4D extension"
   ]
  },
  {
   "cell_type": "code",
   "execution_count": 160,
   "metadata": {},
   "outputs": [
    {
     "name": "stdout",
     "output_type": "stream",
     "text": [
      "Topo4D Extension added: True\n"
     ]
    }
   ],
   "source": [
    "topo4d_ext = Topo4DExtension.ext(item, add_if_missing=True)\n",
    "print(f\"Topo4D Extension added: {Topo4DExtension.has_extension(item)}\")"
   ]
  },
  {
   "cell_type": "code",
   "execution_count": 161,
   "id": "db2d0211",
   "metadata": {},
   "outputs": [],
   "source": [
    "topo4d_ext.tz = metadata.get(\"timezone\", \"UTC\")\n",
    "topo4d_ext.native_crs = item_geo.get(\"native_crs\", None)"
   ]
  },
  {
   "cell_type": "code",
   "execution_count": 162,
   "id": "60697563",
   "metadata": {},
   "outputs": [
    {
     "data": {
      "text/plain": [
       "{'datetime': '2024-08-12T00:00:00Z',\n",
       " 'topo4d:tz': 'UTC+1',\n",
       " 'topo4d:native_crs': 'EPSG:25832'}"
      ]
     },
     "execution_count": 162,
     "metadata": {},
     "output_type": "execute_result"
    }
   ],
   "source": [
    "item.properties"
   ]
  },
  {
   "cell_type": "markdown",
   "id": "1fa7a8b9",
   "metadata": {},
   "source": [
    "### Adding assets"
   ]
  },
  {
   "cell_type": "code",
   "execution_count": 163,
   "id": "1e01e660",
   "metadata": {},
   "outputs": [
    {
     "data": {
      "text/html": [
       "\n",
       "\n",
       "<style>\n",
       ".pystac-summary {\n",
       "    cursor: pointer;\n",
       "    display: list-item;\n",
       "    list-style: revert;\n",
       "    margin-bottom: 0 !important;\n",
       "\n",
       "    .pystac-l {\n",
       "        padding-left: 0.5em;\n",
       "        color: rgb(64, 128, 128);\n",
       "        font-style: italic;\n",
       "    }\n",
       "}\n",
       ".pystac-row {\n",
       "    overflow-wrap: break-word;\n",
       "    padding-left: .825em;\n",
       "\n",
       "    .pystac-k {\n",
       "        display: inline-block;\n",
       "        margin: 0px 0.5em 0px 0px;\n",
       "    }\n",
       "    .pystac-v {\n",
       "        color: rgb(186, 33, 33);\n",
       "    }\n",
       "}\n",
       ".pystac-k {\n",
       "    color: rgb(0, 128, 0);\n",
       "    font-weight: 700;\n",
       "}\n",
       "</style>\n",
       "<div class=\"jp-RenderedJSON jp-mod-trusted jp-OutputArea-output\">\n",
       "    <div class=\"container\" style=\"line-height: normal;\">\n",
       "        <ul style=\"padding: 0px; margin: 0px; list-style: none; display: block;\">\n",
       "            \n",
       "                \n",
       "                    \n",
       "        <li class=\"pystac-row\">\n",
       "            <span class=\"pystac-k\">type</span>\n",
       "            <span class=\"pystac-v\">\"Feature\"</span>\n",
       "        </li>\n",
       "    \n",
       "                \n",
       "            \n",
       "                \n",
       "                    \n",
       "        <li class=\"pystac-row\">\n",
       "            <span class=\"pystac-k\">stac_version</span>\n",
       "            <span class=\"pystac-v\">\"1.1.0\"</span>\n",
       "        </li>\n",
       "    \n",
       "                \n",
       "            \n",
       "                \n",
       "                    <li><details>\n",
       "        <summary class=\"pystac-summary\"><span class=\"pystac-k\">stac_extensions</span><span class=\"pystac-l\">[] 1 items</span></summary>\n",
       "        \n",
       "            <ul style=\"margin: 0px; padding: 0px 0px 0px 1.75em; list-style: none; display: block;\">\n",
       "        \n",
       "            \n",
       "                \n",
       "        <li class=\"pystac-row\">\n",
       "            <span class=\"pystac-k\">0</span>\n",
       "            <span class=\"pystac-v\">\"https://stac-extensions.github.io/topo4d/v1.0.0/schema.json\"</span>\n",
       "        </li>\n",
       "    \n",
       "            \n",
       "        \n",
       "    </ul>\n",
       "        \n",
       "    </details></li>\n",
       "                \n",
       "            \n",
       "                \n",
       "                    \n",
       "        <li class=\"pystac-row\">\n",
       "            <span class=\"pystac-k\">id</span>\n",
       "            <span class=\"pystac-v\">\"Isar_20240812_UPH_10cm\"</span>\n",
       "        </li>\n",
       "    \n",
       "                \n",
       "            \n",
       "                \n",
       "                    \n",
       "        <li><details>\n",
       "            <summary class=\"pystac-summary\"><span class=\"pystac-k\">geometry</span></summary>\n",
       "            <ul style=\"margin: 0px; padding: 0px 0px 0px 1.75em; list-style: none; display: block;\">\n",
       "        \n",
       "            \n",
       "                \n",
       "        <li class=\"pystac-row\">\n",
       "            <span class=\"pystac-k\">type</span>\n",
       "            <span class=\"pystac-v\">\"Polygon\"</span>\n",
       "        </li>\n",
       "    \n",
       "            \n",
       "        \n",
       "            \n",
       "                <li><details>\n",
       "        <summary class=\"pystac-summary\"><span class=\"pystac-k\">coordinates</span><span class=\"pystac-l\">[] 1 items</span></summary>\n",
       "        \n",
       "            <ul style=\"margin: 0px; padding: 0px 0px 0px 1.75em; list-style: none; display: block;\">\n",
       "        \n",
       "            \n",
       "                <li><details>\n",
       "        <summary class=\"pystac-summary\"><span class=\"pystac-k\">0</span><span class=\"pystac-l\">[] 5 items</span></summary>\n",
       "        \n",
       "            <ul style=\"margin: 0px; padding: 0px 0px 0px 1.75em; list-style: none; display: block;\">\n",
       "        \n",
       "            \n",
       "                <li><details>\n",
       "        <summary class=\"pystac-summary\"><span class=\"pystac-k\">0</span><span class=\"pystac-l\">[] 2 items</span></summary>\n",
       "        \n",
       "            <ul style=\"margin: 0px; padding: 0px 0px 0px 1.75em; list-style: none; display: block;\">\n",
       "        \n",
       "            \n",
       "                \n",
       "        <li class=\"pystac-row\">\n",
       "            <span class=\"pystac-k\">0</span>\n",
       "            <span class=\"pystac-v\">11.316376321635966</span>\n",
       "        </li>\n",
       "    \n",
       "            \n",
       "        \n",
       "    </ul>\n",
       "        \n",
       "            <ul style=\"margin: 0px; padding: 0px 0px 0px 1.75em; list-style: none; display: block;\">\n",
       "        \n",
       "            \n",
       "                \n",
       "        <li class=\"pystac-row\">\n",
       "            <span class=\"pystac-k\">1</span>\n",
       "            <span class=\"pystac-v\">47.52637673872775</span>\n",
       "        </li>\n",
       "    \n",
       "            \n",
       "        \n",
       "    </ul>\n",
       "        \n",
       "    </details></li>\n",
       "            \n",
       "        \n",
       "    </ul>\n",
       "        \n",
       "            <ul style=\"margin: 0px; padding: 0px 0px 0px 1.75em; list-style: none; display: block;\">\n",
       "        \n",
       "            \n",
       "                <li><details>\n",
       "        <summary class=\"pystac-summary\"><span class=\"pystac-k\">1</span><span class=\"pystac-l\">[] 2 items</span></summary>\n",
       "        \n",
       "            <ul style=\"margin: 0px; padding: 0px 0px 0px 1.75em; list-style: none; display: block;\">\n",
       "        \n",
       "            \n",
       "                \n",
       "        <li class=\"pystac-row\">\n",
       "            <span class=\"pystac-k\">0</span>\n",
       "            <span class=\"pystac-v\">11.316376321635966</span>\n",
       "        </li>\n",
       "    \n",
       "            \n",
       "        \n",
       "    </ul>\n",
       "        \n",
       "            <ul style=\"margin: 0px; padding: 0px 0px 0px 1.75em; list-style: none; display: block;\">\n",
       "        \n",
       "            \n",
       "                \n",
       "        <li class=\"pystac-row\">\n",
       "            <span class=\"pystac-k\">1</span>\n",
       "            <span class=\"pystac-v\">47.53158992234481</span>\n",
       "        </li>\n",
       "    \n",
       "            \n",
       "        \n",
       "    </ul>\n",
       "        \n",
       "    </details></li>\n",
       "            \n",
       "        \n",
       "    </ul>\n",
       "        \n",
       "            <ul style=\"margin: 0px; padding: 0px 0px 0px 1.75em; list-style: none; display: block;\">\n",
       "        \n",
       "            \n",
       "                <li><details>\n",
       "        <summary class=\"pystac-summary\"><span class=\"pystac-k\">2</span><span class=\"pystac-l\">[] 2 items</span></summary>\n",
       "        \n",
       "            <ul style=\"margin: 0px; padding: 0px 0px 0px 1.75em; list-style: none; display: block;\">\n",
       "        \n",
       "            \n",
       "                \n",
       "        <li class=\"pystac-row\">\n",
       "            <span class=\"pystac-k\">0</span>\n",
       "            <span class=\"pystac-v\">11.304866670991222</span>\n",
       "        </li>\n",
       "    \n",
       "            \n",
       "        \n",
       "    </ul>\n",
       "        \n",
       "            <ul style=\"margin: 0px; padding: 0px 0px 0px 1.75em; list-style: none; display: block;\">\n",
       "        \n",
       "            \n",
       "                \n",
       "        <li class=\"pystac-row\">\n",
       "            <span class=\"pystac-k\">1</span>\n",
       "            <span class=\"pystac-v\">47.53158992234481</span>\n",
       "        </li>\n",
       "    \n",
       "            \n",
       "        \n",
       "    </ul>\n",
       "        \n",
       "    </details></li>\n",
       "            \n",
       "        \n",
       "    </ul>\n",
       "        \n",
       "            <ul style=\"margin: 0px; padding: 0px 0px 0px 1.75em; list-style: none; display: block;\">\n",
       "        \n",
       "            \n",
       "                <li><details>\n",
       "        <summary class=\"pystac-summary\"><span class=\"pystac-k\">3</span><span class=\"pystac-l\">[] 2 items</span></summary>\n",
       "        \n",
       "            <ul style=\"margin: 0px; padding: 0px 0px 0px 1.75em; list-style: none; display: block;\">\n",
       "        \n",
       "            \n",
       "                \n",
       "        <li class=\"pystac-row\">\n",
       "            <span class=\"pystac-k\">0</span>\n",
       "            <span class=\"pystac-v\">11.304866670991222</span>\n",
       "        </li>\n",
       "    \n",
       "            \n",
       "        \n",
       "    </ul>\n",
       "        \n",
       "            <ul style=\"margin: 0px; padding: 0px 0px 0px 1.75em; list-style: none; display: block;\">\n",
       "        \n",
       "            \n",
       "                \n",
       "        <li class=\"pystac-row\">\n",
       "            <span class=\"pystac-k\">1</span>\n",
       "            <span class=\"pystac-v\">47.52637673872775</span>\n",
       "        </li>\n",
       "    \n",
       "            \n",
       "        \n",
       "    </ul>\n",
       "        \n",
       "    </details></li>\n",
       "            \n",
       "        \n",
       "    </ul>\n",
       "        \n",
       "            <ul style=\"margin: 0px; padding: 0px 0px 0px 1.75em; list-style: none; display: block;\">\n",
       "        \n",
       "            \n",
       "                <li><details>\n",
       "        <summary class=\"pystac-summary\"><span class=\"pystac-k\">4</span><span class=\"pystac-l\">[] 2 items</span></summary>\n",
       "        \n",
       "            <ul style=\"margin: 0px; padding: 0px 0px 0px 1.75em; list-style: none; display: block;\">\n",
       "        \n",
       "            \n",
       "                \n",
       "        <li class=\"pystac-row\">\n",
       "            <span class=\"pystac-k\">0</span>\n",
       "            <span class=\"pystac-v\">11.316376321635966</span>\n",
       "        </li>\n",
       "    \n",
       "            \n",
       "        \n",
       "    </ul>\n",
       "        \n",
       "            <ul style=\"margin: 0px; padding: 0px 0px 0px 1.75em; list-style: none; display: block;\">\n",
       "        \n",
       "            \n",
       "                \n",
       "        <li class=\"pystac-row\">\n",
       "            <span class=\"pystac-k\">1</span>\n",
       "            <span class=\"pystac-v\">47.52637673872775</span>\n",
       "        </li>\n",
       "    \n",
       "            \n",
       "        \n",
       "    </ul>\n",
       "        \n",
       "    </details></li>\n",
       "            \n",
       "        \n",
       "    </ul>\n",
       "        \n",
       "    </details></li>\n",
       "            \n",
       "        \n",
       "    </ul>\n",
       "        \n",
       "    </details></li>\n",
       "            \n",
       "        \n",
       "    </ul>\n",
       "        </details></li>\n",
       "    \n",
       "                \n",
       "            \n",
       "                \n",
       "                    <li><details>\n",
       "        <summary class=\"pystac-summary\"><span class=\"pystac-k\">bbox</span><span class=\"pystac-l\">[] 4 items</span></summary>\n",
       "        \n",
       "            <ul style=\"margin: 0px; padding: 0px 0px 0px 1.75em; list-style: none; display: block;\">\n",
       "        \n",
       "            \n",
       "                \n",
       "        <li class=\"pystac-row\">\n",
       "            <span class=\"pystac-k\">0</span>\n",
       "            <span class=\"pystac-v\">11.304866670991222</span>\n",
       "        </li>\n",
       "    \n",
       "            \n",
       "        \n",
       "    </ul>\n",
       "        \n",
       "            <ul style=\"margin: 0px; padding: 0px 0px 0px 1.75em; list-style: none; display: block;\">\n",
       "        \n",
       "            \n",
       "                \n",
       "        <li class=\"pystac-row\">\n",
       "            <span class=\"pystac-k\">1</span>\n",
       "            <span class=\"pystac-v\">47.52637673872775</span>\n",
       "        </li>\n",
       "    \n",
       "            \n",
       "        \n",
       "    </ul>\n",
       "        \n",
       "            <ul style=\"margin: 0px; padding: 0px 0px 0px 1.75em; list-style: none; display: block;\">\n",
       "        \n",
       "            \n",
       "                \n",
       "        <li class=\"pystac-row\">\n",
       "            <span class=\"pystac-k\">2</span>\n",
       "            <span class=\"pystac-v\">11.316376321635966</span>\n",
       "        </li>\n",
       "    \n",
       "            \n",
       "        \n",
       "    </ul>\n",
       "        \n",
       "            <ul style=\"margin: 0px; padding: 0px 0px 0px 1.75em; list-style: none; display: block;\">\n",
       "        \n",
       "            \n",
       "                \n",
       "        <li class=\"pystac-row\">\n",
       "            <span class=\"pystac-k\">3</span>\n",
       "            <span class=\"pystac-v\">47.53158992234481</span>\n",
       "        </li>\n",
       "    \n",
       "            \n",
       "        \n",
       "    </ul>\n",
       "        \n",
       "    </details></li>\n",
       "                \n",
       "            \n",
       "                \n",
       "                    \n",
       "        <li><details>\n",
       "            <summary class=\"pystac-summary\"><span class=\"pystac-k\">properties</span></summary>\n",
       "            <ul style=\"margin: 0px; padding: 0px 0px 0px 1.75em; list-style: none; display: block;\">\n",
       "        \n",
       "            \n",
       "                \n",
       "        <li class=\"pystac-row\">\n",
       "            <span class=\"pystac-k\">datetime</span>\n",
       "            <span class=\"pystac-v\">\"2024-08-12T00:00:00Z\"</span>\n",
       "        </li>\n",
       "    \n",
       "            \n",
       "        \n",
       "            \n",
       "                \n",
       "        <li class=\"pystac-row\">\n",
       "            <span class=\"pystac-k\">topo4d:tz</span>\n",
       "            <span class=\"pystac-v\">\"UTC+1\"</span>\n",
       "        </li>\n",
       "    \n",
       "            \n",
       "        \n",
       "            \n",
       "                \n",
       "        <li class=\"pystac-row\">\n",
       "            <span class=\"pystac-k\">topo4d:native_crs</span>\n",
       "            <span class=\"pystac-v\">\"EPSG:25832\"</span>\n",
       "        </li>\n",
       "    \n",
       "            \n",
       "        \n",
       "    </ul>\n",
       "        </details></li>\n",
       "    \n",
       "                \n",
       "            \n",
       "                \n",
       "                    <li><details>\n",
       "        <summary class=\"pystac-summary\"><span class=\"pystac-k\">links</span><span class=\"pystac-l\">[] 0 items</span></summary>\n",
       "        \n",
       "    </details></li>\n",
       "                \n",
       "            \n",
       "                \n",
       "                    \n",
       "        <li><details>\n",
       "            <summary class=\"pystac-summary\"><span class=\"pystac-k\">assets</span></summary>\n",
       "            <ul style=\"margin: 0px; padding: 0px 0px 0px 1.75em; list-style: none; display: block;\">\n",
       "        \n",
       "            \n",
       "                \n",
       "        <li><details>\n",
       "            <summary class=\"pystac-summary\"><span class=\"pystac-k\">pointcloud</span></summary>\n",
       "            <ul style=\"margin: 0px; padding: 0px 0px 0px 1.75em; list-style: none; display: block;\">\n",
       "        \n",
       "            \n",
       "                \n",
       "        <li class=\"pystac-row\">\n",
       "            <span class=\"pystac-k\">href</span>\n",
       "            <span class=\"pystac-v\">\"./Isar_20240812_UPH_10cm.copc.laz\"</span>\n",
       "        </li>\n",
       "    \n",
       "            \n",
       "        \n",
       "            \n",
       "                \n",
       "        <li class=\"pystac-row\">\n",
       "            <span class=\"pystac-k\">type</span>\n",
       "            <span class=\"pystac-v\">\"application/vnd.laszip+copc\"</span>\n",
       "        </li>\n",
       "    \n",
       "            \n",
       "        \n",
       "            \n",
       "                <li><details>\n",
       "        <summary class=\"pystac-summary\"><span class=\"pystac-k\">roles</span><span class=\"pystac-l\">[] 1 items</span></summary>\n",
       "        \n",
       "            <ul style=\"margin: 0px; padding: 0px 0px 0px 1.75em; list-style: none; display: block;\">\n",
       "        \n",
       "            \n",
       "                \n",
       "        <li class=\"pystac-row\">\n",
       "            <span class=\"pystac-k\">0</span>\n",
       "            <span class=\"pystac-v\">\"data\"</span>\n",
       "        </li>\n",
       "    \n",
       "            \n",
       "        \n",
       "    </ul>\n",
       "        \n",
       "    </details></li>\n",
       "            \n",
       "        \n",
       "    </ul>\n",
       "        </details></li>\n",
       "    \n",
       "            \n",
       "        \n",
       "    </ul>\n",
       "        </details></li>\n",
       "    \n",
       "                \n",
       "            \n",
       "        </ul>\n",
       "    </div>\n",
       "</div>"
      ],
      "text/plain": [
       "<Item id=Isar_20240812_UPH_10cm>"
      ]
     },
     "execution_count": 163,
     "metadata": {},
     "output_type": "execute_result"
    }
   ],
   "source": [
    "asset_name, item_asset = make_item_asset(asset_url=metadata.get(\"asset_url\"), user_input=metadata)\n",
    "\n",
    "item.add_asset(\n",
    "    key=asset_name,\n",
    "    asset=item_asset\n",
    ")\n",
    "\n",
    "item"
   ]
  },
  {
   "cell_type": "markdown",
   "id": "07c6673b",
   "metadata": {},
   "source": [
    "## Create more items"
   ]
  },
  {
   "cell_type": "code",
   "execution_count": 164,
   "id": "fb2ec6ee",
   "metadata": {},
   "outputs": [],
   "source": [
    "def item_from_metadata(metadata: Dict[str, Any]) -> pystac.Item:\n",
    "    item_id = get_id(metadata)\n",
    "    item_datetime = get_datetime(metadata)\n",
    "    item_geo = get_geo(metadata)\n",
    "\n",
    "    item = pystac.Item(\n",
    "        id=item_id,\n",
    "        geometry=item_geo[\"geometry\"],\n",
    "        bbox=item_geo[\"bbox\"],\n",
    "        datetime=item_datetime.replace(tzinfo=None),\n",
    "        properties={}\n",
    "    )\n",
    "\n",
    "    topo4d_ext = Topo4DExtension.ext(item, add_if_missing=True)\n",
    "    topo4d_ext.tz = metadata.get(\"timezone\", \"UTC\")\n",
    "    topo4d_ext.native_crs = item_geo.get(\"native_crs\", None)\n",
    "    topo4d_ext.data_type = DataType(metadata.get(\"data_type\", None))\n",
    "    topo4d_ext.sensor = metadata.get(\"sensor\", None)\n",
    "    topo4d_ext.acquisition_date = metadata.get(\"acquisition_date\", None)\n",
    "    topo4d_ext.orientation = metadata.get(\"orientation\", None)\n",
    "    topo4d_ext.spatial_resolution = metadata.get(\"spatial_resolution\", None)\n",
    "    topo4d_ext.measurement_error = metadata.get(\"measurement_error\", None)\n",
    "\n",
    "\n",
    "    asset_name, item_asset = make_item_asset(asset_url=metadata.get(\"asset_url\"), user_input=metadata)\n",
    "\n",
    "    item.add_asset(\n",
    "        key=asset_name,\n",
    "        asset=item_asset\n",
    "    )\n",
    "\n",
    "    return item"
   ]
  },
  {
   "cell_type": "code",
   "execution_count": 165,
   "id": "4ea02f7e",
   "metadata": {},
   "outputs": [
    {
     "name": "stderr",
     "output_type": "stream",
     "text": [
      "Processing files: 100%|██████████| 3/3 [00:00<00:00, 269.98it/s]\n"
     ]
    }
   ],
   "source": [
    "meta_userinput = pd.read_csv(os.path.join(data_dir, \"auxilary.csv\"), index_col=\"id\").to_dict(orient=\"index\")\n",
    "\n",
    "item_list = []\n",
    "metadata_list = []\n",
    "\n",
    "for file_path in tqdm(file_paths, desc=\"Processing files\"):\n",
    "    meta_las = extract_metadata_from_las(file_path, if_save=True)\n",
    "    file_id = Path(file_path).stem.split(\".\")[0]\n",
    "\n",
    "    if file_id not in meta_userinput:\n",
    "        print(f\"Skipping {file_id} as it is not in user input metadata\")\n",
    "        continue\n",
    "\n",
    "    metadata = meta_las\n",
    "    metadata.update(meta_userinput[file_id])\n",
    "\n",
    "    metadata_list.append(metadata)\n",
    "\n",
    "    item = item_from_metadata(metadata)\n",
    "    # item.validate() # Uncomment when the Schema url is public\n",
    "\n",
    "    item.set_self_href(f\"{data_dir}/{item.id}.json\")\n",
    "    item_list.append(item)"
   ]
  },
  {
   "cell_type": "code",
   "execution_count": 166,
   "id": "02a22718",
   "metadata": {},
   "outputs": [
    {
     "data": {
      "text/plain": [
       "'c:/Users/jiapan/02_projects/2025_4DWORKS/4D-WORKS/demo/Isar/data/Isar_pointclouds/Isar_20240812_UPH_10cm.json'"
      ]
     },
     "execution_count": 166,
     "metadata": {},
     "output_type": "execute_result"
    }
   ],
   "source": [
    "item_list[0].get_self_href()"
   ]
  },
  {
   "cell_type": "markdown",
   "id": "dbba0f76",
   "metadata": {},
   "source": [
    "### Adding TrafoMeta"
   ]
  },
  {
   "cell_type": "code",
   "execution_count": 167,
   "id": "9124d475",
   "metadata": {},
   "outputs": [],
   "source": [
    "trafo_paths = [f for f in Path(data_dir).glob(\"trafo*.txt\")]\n",
    "ref_id = \"Isar_20241105_UPH_10cm\"\n",
    "# find the match id in item_list\n",
    "if ref_id in [item.id for item in item_list]:\n",
    "    reference_epoch = [item for item in item_list if item.id == ref_id][0]\n",
    "\n",
    "    reference_epoch_link = pystac.Link(\n",
    "        rel=reference_epoch.id,\n",
    "        target=reference_epoch.get_self_href(),\n",
    "        title=\"Reference Epoch\",\n",
    "        media_type=pystac.MediaType.JSON)\n",
    "\n",
    "    for idx, trafo_path in enumerate(trafo_paths):\n",
    "        with open(trafo_path, \"r\") as f:\n",
    "            # read trafo meta from txt file as array\n",
    "            trafo_mat = [np.array(line.strip().split(), dtype=float).tolist() for line in f if line.strip()]\n",
    "\n",
    "        trafo_meta = TrafoMeta.create(\n",
    "            reference_epoch=reference_epoch_link.to_dict(),\n",
    "            transformation=trafo_mat,\n",
    "            )\n",
    "\n",
    "        item = item_list[idx]\n",
    "        Topo4DExtension.ext(item, add_if_missing=True).trafometa = trafo_meta"
   ]
  },
  {
   "cell_type": "markdown",
   "id": "041f027e",
   "metadata": {},
   "source": [
    "### Adding ProductMeta"
   ]
  },
  {
   "cell_type": "code",
   "execution_count": 168,
   "id": "8f8cf9a2",
   "metadata": {},
   "outputs": [],
   "source": [
    "for idx, meta in enumerate(metadata_list):\n",
    "    item = item_list[idx]\n",
    "    if \"product_name\" in meta:\n",
    "        product_meta = ProductMeta.create(\n",
    "            product_name=meta[\"product_name\"],\n",
    "            lastupdate=datetime.strptime(meta['header'].get(\"creation_date\", None), \"%Y-%m-%d\").isoformat(),\n",
    "            param={\"param\": meta.get(\"param\", None)},\n",
    "            derived_from=meta.get(\"derived_from\", None),\n",
    "            product_level=meta.get(\"product_level\", None),\n",
    "        )\n",
    "        Topo4DExtension.ext(item, add_if_missing=True).productmeta = product_meta"
   ]
  },
  {
   "cell_type": "markdown",
   "id": "fae6fdb7",
   "metadata": {},
   "source": [
    "## Create Collection"
   ]
  },
  {
   "cell_type": "markdown",
   "id": "cbc73786",
   "metadata": {},
   "source": [
    "### Collection `id`"
   ]
  },
  {
   "cell_type": "code",
   "execution_count": 169,
   "metadata": {},
   "outputs": [
    {
     "data": {
      "text/plain": [
       "'Isar_pointclouds_collection'"
      ]
     },
     "execution_count": 169,
     "metadata": {},
     "output_type": "execute_result"
    }
   ],
   "source": [
    "collection_id = f\"Isar_pointclouds_collection\"\n",
    "collection_id"
   ]
  },
  {
   "cell_type": "markdown",
   "id": "267caefb",
   "metadata": {},
   "source": [
    "### Collection `title`"
   ]
  },
  {
   "cell_type": "code",
   "execution_count": 170,
   "id": "583df81e",
   "metadata": {},
   "outputs": [
    {
     "data": {
      "text/plain": [
       "'Isar Point Clouds Collection'"
      ]
     },
     "execution_count": 170,
     "metadata": {},
     "output_type": "execute_result"
    }
   ],
   "source": [
    "collection_title = \"Isar Point Clouds Collection\"\n",
    "collection_title"
   ]
  },
  {
   "cell_type": "markdown",
   "id": "15c9d648",
   "metadata": {},
   "source": [
    "### Collection `description`"
   ]
  },
  {
   "cell_type": "code",
   "execution_count": 171,
   "id": "83e09f62",
   "metadata": {},
   "outputs": [
    {
     "name": "stdout",
     "output_type": "stream",
     "text": [
      "### Isar Point Clouds Collection\n",
      "\n",
      "A collection of point cloud from Isar riverbank, near Wallgau, Germany.\n",
      "\n"
     ]
    }
   ],
   "source": [
    "collection_desc = f'''### {collection_title}\n",
    "\n",
    "A collection of point cloud from Isar riverbank, near Wallgau, Germany.\n",
    "'''\n",
    "print(collection_desc)"
   ]
  },
  {
   "cell_type": "markdown",
   "id": "3e858861",
   "metadata": {},
   "source": [
    "### Collection `license`"
   ]
  },
  {
   "cell_type": "code",
   "execution_count": 172,
   "id": "bb826017",
   "metadata": {},
   "outputs": [
    {
     "data": {
      "text/plain": [
       "'CC-BY-4.0'"
      ]
     },
     "execution_count": 172,
     "metadata": {},
     "output_type": "execute_result"
    }
   ],
   "source": [
    "collection_license = \"CC-BY-4.0\"\n",
    "collection_license"
   ]
  },
  {
   "cell_type": "markdown",
   "id": "f080a0e4",
   "metadata": {},
   "source": [
    "### Collection `provider`"
   ]
  },
  {
   "cell_type": "code",
   "execution_count": 173,
   "id": "017cb8c4",
   "metadata": {},
   "outputs": [],
   "source": [
    "collection_providers = [\n",
    "    pystac.Provider(\n",
    "        name=\"TUM Remote Sensing Applications\",\n",
    "        roles=[\n",
    "            pystac.ProviderRole.PROCESSOR,\n",
    "            pystac.ProviderRole.PRODUCER,\n",
    "            pystac.ProviderRole.LICENSOR,\n",
    "            pystac.ProviderRole.HOST\n",
    "            ],\n",
    "        url=\"https://www.asg.ed.tum.de/rsa/startseite/\",\n",
    "    ),\n",
    "]"
   ]
  },
  {
   "cell_type": "markdown",
   "id": "d0238287",
   "metadata": {},
   "source": [
    "### Collection `extend`"
   ]
  },
  {
   "cell_type": "code",
   "execution_count": 174,
   "id": "bd8c8373",
   "metadata": {},
   "outputs": [],
   "source": [
    "spatial_extent = pystac.SpatialExtent([[-180.0, -90.0, 180.0, 90.0]])\n",
    "temporal_extent = pystac.TemporalExtent([[datetime(2013, 6, 1), None]])\n",
    "collection_extent = pystac.Extent(spatial_extent, temporal_extent)"
   ]
  },
  {
   "cell_type": "code",
   "execution_count": 175,
   "id": "5f89ce02",
   "metadata": {},
   "outputs": [],
   "source": [
    "collection = pystac.Collection(\n",
    "    id=collection_id,\n",
    "    title=collection_title,\n",
    "    description=collection_desc,\n",
    "    extent=collection_extent,\n",
    "    license=collection_license,\n",
    "    providers=collection_providers,\n",
    ")"
   ]
  },
  {
   "cell_type": "code",
   "execution_count": 176,
   "id": "2985e1c3",
   "metadata": {},
   "outputs": [
    {
     "data": {
      "text/plain": [
       "{'type': 'Collection',\n",
       " 'id': 'Isar_pointclouds_collection',\n",
       " 'stac_version': '1.1.0',\n",
       " 'description': '### Isar Point Clouds Collection\\n\\nA collection of point cloud from Isar riverbank, near Wallgau, Germany.\\n',\n",
       " 'links': [],\n",
       " 'title': 'Isar Point Clouds Collection',\n",
       " 'extent': {'spatial': {'bbox': [[-180.0, -90.0, 180.0, 90.0]]},\n",
       "  'temporal': {'interval': [['2013-06-01T00:00:00Z', None]]}},\n",
       " 'license': 'CC-BY-4.0',\n",
       " 'providers': [{'name': 'TUM Remote Sensing Applications',\n",
       "   'roles': ['processor', 'producer', 'licensor', 'host'],\n",
       "   'url': 'https://www.asg.ed.tum.de/rsa/startseite/'}]}"
      ]
     },
     "execution_count": 176,
     "metadata": {},
     "output_type": "execute_result"
    }
   ],
   "source": [
    "collection.to_dict()"
   ]
  },
  {
   "cell_type": "code",
   "execution_count": 177,
   "id": "fc7c8368",
   "metadata": {},
   "outputs": [],
   "source": [
    "# add items to the collection\n",
    "for item in item_list:\n",
    "    collection.add_item(item)"
   ]
  },
  {
   "cell_type": "markdown",
   "id": "89385e75",
   "metadata": {},
   "source": [
    "### Collection `summaries`"
   ]
  },
  {
   "cell_type": "code",
   "execution_count": 178,
   "id": "9d5b111c",
   "metadata": {},
   "outputs": [],
   "source": [
    "# add collection summaries\n",
    "collection.summaries.add(\"num_items\", {\"count\": len(item_list)})\n",
    "collection.summaries.add(\"timestamp_list\", {\"list\": [item.datetime.isoformat() for item in item_list]})\n",
    "collection.summaries.add(\"temporal_resolution\", {\"resolution\": \"half-annual\"})"
   ]
  },
  {
   "cell_type": "code",
   "execution_count": 179,
   "id": "e4bd187e",
   "metadata": {},
   "outputs": [
    {
     "data": {
      "text/plain": [
       "{'type': 'Collection',\n",
       " 'id': 'Isar_pointclouds_collection',\n",
       " 'stac_version': '1.1.0',\n",
       " 'description': '### Isar Point Clouds Collection\\n\\nA collection of point cloud from Isar riverbank, near Wallgau, Germany.\\n',\n",
       " 'links': [{'rel': 'item',\n",
       "   'href': 'c:/Users/jiapan/02_projects/2025_4DWORKS/4D-WORKS/demo/Isar/data/Isar_pointclouds/Isar_20240812_UPH_10cm.json',\n",
       "   'type': 'application/geo+json'},\n",
       "  {'rel': 'item',\n",
       "   'href': 'c:/Users/jiapan/02_projects/2025_4DWORKS/4D-WORKS/demo/Isar/data/Isar_pointclouds/Isar_20241105_UPH_10cm.json',\n",
       "   'type': 'application/geo+json'},\n",
       "  {'rel': 'item',\n",
       "   'href': 'c:/Users/jiapan/02_projects/2025_4DWORKS/4D-WORKS/demo/Isar/data/Isar_pointclouds/Isar_20250325_ULS_10cm.json',\n",
       "   'type': 'application/geo+json'}],\n",
       " 'title': 'Isar Point Clouds Collection',\n",
       " 'extent': {'spatial': {'bbox': [[11.304168016412058,\n",
       "     47.52600520593624,\n",
       "     11.3172511501222,\n",
       "     47.53281392856261]]},\n",
       "  'temporal': {'interval': [['2024-08-12T00:00:00Z',\n",
       "     '2025-03-25T00:00:00Z']]}},\n",
       " 'license': 'CC-BY-4.0',\n",
       " 'providers': [{'name': 'TUM Remote Sensing Applications',\n",
       "   'roles': ['processor', 'producer', 'licensor', 'host'],\n",
       "   'url': 'https://www.asg.ed.tum.de/rsa/startseite/'}],\n",
       " 'summaries': {'num_items': {'count': 3},\n",
       "  'timestamp_list': {'list': ['2024-08-12T00:00:00',\n",
       "    '2024-11-05T00:00:00',\n",
       "    '2025-03-25T00:00:00']},\n",
       "  'temporal_resolution': {'resolution': 'half-annual'}}}"
      ]
     },
     "execution_count": 179,
     "metadata": {},
     "output_type": "execute_result"
    }
   ],
   "source": [
    "collection.update_extent_from_items()\n",
    "collection.extent.to_dict()\n",
    "collection.to_dict()"
   ]
  },
  {
   "cell_type": "markdown",
   "id": "edc4c677",
   "metadata": {},
   "source": [
    "### Save STAC"
   ]
  },
  {
   "cell_type": "code",
   "execution_count": 180,
   "metadata": {},
   "outputs": [
    {
     "name": "stdout",
     "output_type": "stream",
     "text": [
      "Root path for collection: ..\\demo\\Isar\\data\\Isar_pointclouds\n"
     ]
    }
   ],
   "source": [
    "from pathlib import Path\n",
    "\n",
    "root_path = str(Path(f\"{data_dir}\"))\n",
    "print(f\"Root path for collection: {root_path}\")\n",
    "\n",
    "from pystac.layout import TemplateLayoutStrategy\n",
    "\n",
    "# Set up a flatten layout strategy\n",
    "strategy = TemplateLayoutStrategy(\n",
    "    item_template=\"${id}.json\"\n",
    ")\n",
    "\n",
    "collection.normalize_hrefs(root_path, strategy=strategy)"
   ]
  },
  {
   "cell_type": "code",
   "execution_count": 181,
   "id": "99aca706",
   "metadata": {},
   "outputs": [],
   "source": [
    "# collection.validate_all() # Uncomment when the Schema url is public"
   ]
  },
  {
   "cell_type": "code",
   "execution_count": 182,
   "metadata": {},
   "outputs": [],
   "source": [
    "collection.save(pystac.CatalogType.SELF_CONTAINED)"
   ]
  },
  {
   "cell_type": "code",
   "execution_count": 183,
   "id": "f1076f36",
   "metadata": {},
   "outputs": [
    {
     "name": "stdout",
     "output_type": "stream",
     "text": [
      "* <Collection id=Isar_pointclouds_collection>\n",
      "  * <Item id=Isar_20240812_UPH_10cm>\n",
      "  * <Item id=Isar_20241105_UPH_10cm>\n",
      "  * <Item id=Isar_20250325_ULS_10cm>\n"
     ]
    }
   ],
   "source": [
    "collection.describe()"
   ]
  }
 ],
 "metadata": {
  "kernelspec": {
   "display_name": "4dworks",
   "language": "python",
   "name": "python3"
  },
  "language_info": {
   "codemirror_mode": {
    "name": "ipython",
    "version": 3
   },
   "file_extension": ".py",
   "mimetype": "text/x-python",
   "name": "python",
   "nbconvert_exporter": "python",
   "pygments_lexer": "ipython3",
   "version": "3.10.17"
  }
 },
 "nbformat": 4,
 "nbformat_minor": 5
}
